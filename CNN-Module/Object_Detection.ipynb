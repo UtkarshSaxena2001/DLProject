{
 "cells": [
  {
   "cell_type": "markdown",
   "metadata": {},
   "source": [
    "Libraries Used"
   ]
  },
  {
   "cell_type": "code",
   "execution_count": 12,
   "metadata": {},
   "outputs": [],
   "source": [
    "import json as js\n",
    "import tensorflow as tf\n",
    "from os import listdir as ld\n",
    "from os import path\n",
    "from keras.models import Model #type: ignore\n",
    "from keras import layers,models #type: ignore\n",
    "from tqdm import tqdm\n",
    "from keras.utils import to_categorical #type: ignore"
   ]
  },
  {
   "cell_type": "markdown",
   "metadata": {},
   "source": [
    "Loading Paths"
   ]
  },
  {
   "cell_type": "code",
   "execution_count": 13,
   "metadata": {},
   "outputs": [],
   "source": [
    "with open(\"config_CNN.json\",'r') as file:\n",
    "    paths = js.load(file)"
   ]
  },
  {
   "cell_type": "markdown",
   "metadata": {},
   "source": [
    "Creating Datasets"
   ]
  },
  {
   "cell_type": "code",
   "execution_count": 14,
   "metadata": {},
   "outputs": [
    {
     "name": "stdout",
     "output_type": "stream",
     "text": [
      "Processing Training Data\n"
     ]
    },
    {
     "name": "stderr",
     "output_type": "stream",
     "text": [
      "100%|██████████| 117266/117266 [00:00<00:00, 669257.32it/s]\n"
     ]
    },
    {
     "name": "stdout",
     "output_type": "stream",
     "text": [
      "Processing Validation Data\n"
     ]
    },
    {
     "name": "stderr",
     "output_type": "stream",
     "text": [
      "100%|██████████| 4952/4952 [00:00<00:00, 484153.69it/s]\n"
     ]
    }
   ],
   "source": [
    "train_img_dir = paths['Train_resized']\n",
    "train_annotation = paths['Preprocessed_Train_json']\n",
    "val_img_dir = paths['Validation_resized']\n",
    "val_annotation = paths['Preprocessed_Validation_json']\n",
    "NUM_CLASSES = 80\n",
    "\n",
    "with open(train_annotation, 'r') as f:\n",
    "    train_annotations = js.load(f)\n",
    "    \n",
    "with open(val_annotation, 'r') as f:\n",
    "    val_annotations = js.load(f)\n",
    "\n",
    "train_data = []\n",
    "val_data = []\n",
    "\n",
    "print(\"Processing Training Data\")\n",
    "for info in tqdm(train_annotations):\n",
    "    bbox = info['bbox']\n",
    "    label = info['category_id']\n",
    "    image_path = path.join(train_img_dir, info[\"img_id\"])\n",
    "    train_data.append((image_path, bbox, label))\n",
    "\n",
    "print(\"Processing Validation Data\")\n",
    "for info in tqdm(val_annotations):\n",
    "    bbox = info['bbox']\n",
    "    label = info['category_id']\n",
    "    image_path = path.join(val_img_dir, info[\"img_id\"])\n",
    "    val_data.append((image_path, bbox, label))\n",
    "\n",
    "def preprocess_example(image_path, bbox, label):\n",
    "    image = tf.io.read_file(image_path)\n",
    "    image = tf.image.decode_jpeg(image, channels=3)\n",
    "    image = tf.cast(image, tf.float32) / 255.0\n",
    "    bbox_tensor = tf.stack(bbox)\n",
    "    class_tensor = tf.one_hot(label, depth=NUM_CLASSES)\n",
    "    return image, {\n",
    "        \"class_output\": class_tensor,\n",
    "        \"bbox_output\": bbox_tensor\n",
    "    }\n",
    "\n",
    "def create_dataset(data, batch_size=8, shuffle=True):\n",
    "    paths, bboxes, labels = zip(*data)\n",
    "    dataset = tf.data.Dataset.from_tensor_slices((list(paths), list(bboxes), list(labels)))\n",
    "\n",
    "    if shuffle:\n",
    "        dataset = dataset.shuffle(buffer_size=len(data))\n",
    "\n",
    "    dataset = dataset.map(lambda p, b, l: preprocess_example(p, b, l), num_parallel_calls=tf.data.AUTOTUNE)\n",
    "    dataset = dataset.batch(batch_size).prefetch(tf.data.AUTOTUNE)\n",
    "    return dataset\n",
    "\n",
    "train_dataset = create_dataset(train_data)\n",
    "val_dataset = create_dataset(val_data, shuffle=False)\n"
   ]
  },
  {
   "cell_type": "markdown",
   "metadata": {},
   "source": [
    "Defining model"
   ]
  },
  {
   "cell_type": "code",
   "execution_count": 15,
   "metadata": {},
   "outputs": [],
   "source": [
    "def inception_block(x, filters):\n",
    "    branch1x1 = layers.Conv2D(filters, (1, 1), padding='same', activation='relu')(x)\n",
    "    branch3x3 = layers.Conv2D(filters, (1, 1), padding='same', activation='relu')(x)\n",
    "    branch3x3 = layers.Conv2D(filters, (3, 3), padding='same', activation='relu')(branch3x3)\n",
    "    branch5x5 = layers.Conv2D(filters, (1, 1), padding='same', activation='relu')(x)\n",
    "    branch5x5 = layers.Conv2D(filters, (5, 5), padding='same', activation='relu')(branch5x5)\n",
    "    branch_pool = layers.MaxPooling2D((3, 3), strides=(1, 1), padding='same')(x)\n",
    "    branch_pool = layers.Conv2D(filters, (1, 1), padding='same', activation='relu')(branch_pool)\n",
    "    x = layers.concatenate([branch1x1, branch3x3, branch5x5, branch_pool], axis=-1)\n",
    "    x = layers.BatchNormalization()(x)\n",
    "    return x\n",
    "\n",
    "def mbconv_block(x, filters, kernel_size, strides=(1, 1), expand_ratio=6):\n",
    "    input_tensor = x\n",
    "    in_channels = x.shape[-1]\n",
    "    x = layers.Conv2D(in_channels * expand_ratio, (1, 1), padding='same', use_bias=False)(x)\n",
    "    x = layers.BatchNormalization()(x)\n",
    "    x = layers.ReLU()(x)\n",
    "    x = layers.DepthwiseConv2D(kernel_size, strides=strides, padding='same', use_bias=False)(x)\n",
    "    x = layers.BatchNormalization()(x)\n",
    "    x = layers.ReLU()(x)\n",
    "    x = layers.Conv2D(filters, (1, 1), padding='same', use_bias=False)(x)\n",
    "    x = layers.BatchNormalization()(x)\n",
    "\n",
    "    if strides == (1, 1) and in_channels == filters:\n",
    "        x = layers.add([x, input_tensor])\n",
    "    return x\n",
    "\n",
    "def efficientnet_encoder(input_shape=(256, 256, 3)):\n",
    "    inputs = layers.Input(shape=input_shape)\n",
    "    x = layers.Conv2D(32, (3, 3), strides=(2, 2), padding=\"same\", use_bias=False, kernel_initializer='he_normal')(inputs)\n",
    "    x = layers.BatchNormalization()(x)\n",
    "    x = layers.ReLU()(x)\n",
    "    x = mbconv_block(x, 64, (3, 3), strides=(1, 1), expand_ratio=1)\n",
    "    x = mbconv_block(x, 128, (3, 3), strides=(2, 2), expand_ratio=6)\n",
    "    x = mbconv_block(x, 128, (3, 3), strides=(1, 1), expand_ratio=6)\n",
    "    x = mbconv_block(x, 256, (3, 3), strides=(2, 2), expand_ratio=6)\n",
    "    x = mbconv_block(x, 256, (3, 3), strides=(1, 1), expand_ratio=6)\n",
    "    x = mbconv_block(x, 512, (3, 3), strides=(2, 2), expand_ratio=6)\n",
    "    x = mbconv_block(x, 512, (3, 3), strides=(1, 1), expand_ratio=6)\n",
    "    x = mbconv_block(x, 1024, (3, 3), strides=(2, 2), expand_ratio=6)\n",
    "    return models.Model(inputs, x, name=\"efficientnet_encoder\")\n",
    "\n",
    "def inception_decoder(input_tensor, num_classes=80):\n",
    "    x = inception_block(input_tensor, 32)\n",
    "    x = inception_block(x, 64)\n",
    "    x = inception_block(x, 128)\n",
    "    x = inception_block(x, 256)\n",
    "    x = layers.GlobalAveragePooling2D()(x)\n",
    "    x = layers.Dense(512, activation='relu')(x)\n",
    "    x = layers.BatchNormalization()(x)\n",
    "    x = layers.Dropout(0.5)(x)\n",
    "    bbox_output = layers.Dense(4, activation='sigmoid', name=\"bbox_output\")(x)  \n",
    "    class_output = layers.Dense(num_classes, activation='softmax', name=\"class_output\")(x)\n",
    "    return models.Model(input_tensor, {\n",
    "    \"bbox_output\": bbox_output,\n",
    "    \"class_output\": class_output\n",
    "    }, name=\"inception_decoder\")\n",
    "\n",
    "def custom_detection_model(input_shape=(256, 256, 3), num_classes=80):\n",
    "    encoder = efficientnet_encoder(input_shape)\n",
    "    image_input = encoder.input\n",
    "    x = encoder.output\n",
    "    x = layers.GlobalAveragePooling2D()(x)\n",
    "    x = layers.Dense(1024, activation='relu')(x)\n",
    "    x = layers.Reshape((1, 1, 1024))(x)\n",
    "    x = layers.Conv2D(1024, (1, 1), activation='relu')(x)\n",
    "    x = layers.BatchNormalization()(x)\n",
    "    decoder_model = inception_decoder(input_tensor=x, num_classes=num_classes)\n",
    "    model = models.Model(inputs=image_input, outputs={\n",
    "    \"class_output\": decoder_model.get_layer(\"class_output\").output,\n",
    "    \"bbox_output\": decoder_model.get_layer(\"bbox_output\").output\n",
    "    })\n",
    "    \n",
    "    model.compile(\n",
    "        optimizer = tf.keras.optimizers.Adam(1e-4),\n",
    "        loss = {\n",
    "            \"class_output\": \"categorical_crossentropy\",\n",
    "            \"bbox_output\": \"mse\"\n",
    "        },\n",
    "        metrics = {\n",
    "            \"class_output\": \"accuracy\",\n",
    "            \"bbox_output\": \"mae\" \n",
    "        }\n",
    "    )\n",
    "\n",
    "    return model\n",
    "model = custom_detection_model(input_shape=(256, 256, 3), num_classes=80)"
   ]
  },
  {
   "cell_type": "markdown",
   "metadata": {},
   "source": [
    "Checkpoints"
   ]
  },
  {
   "cell_type": "code",
   "execution_count": 16,
   "metadata": {},
   "outputs": [],
   "source": [
    "checkpoint = tf.keras.callbacks.ModelCheckpoint(\n",
    "    filepath = paths[\"Trained_model\"],\n",
    "    monitor = 'val_bbox_output_loss',\n",
    "    save_best_only = True,\n",
    "    save_weights_only = False,\n",
    "    mode = 'min',\n",
    "    verbose = 1\n",
    ")"
   ]
  },
  {
   "cell_type": "markdown",
   "metadata": {},
   "source": [
    "Model training "
   ]
  },
  {
   "cell_type": "code",
   "execution_count": 17,
   "metadata": {},
   "outputs": [
    {
     "name": "stdout",
     "output_type": "stream",
     "text": [
      "Epoch 1/5\n"
     ]
    },
    {
     "name": "stdout",
     "output_type": "stream",
     "text": [
      "\u001b[1m14658/14659\u001b[0m \u001b[32m━━━━━━━━━━━━━━━━━━━\u001b[0m\u001b[37m━\u001b[0m \u001b[1m0s\u001b[0m 103ms/step - bbox_output_loss: 15677.6641 - bbox_output_mae: 101.4024 - class_output_accuracy: 0.1232 - class_output_loss: 4.3521 - loss: 15682.0176"
     ]
    },
    {
     "name": "stderr",
     "output_type": "stream",
     "text": [
      "2025-04-10 15:28:45.060979: I external/local_xla/xla/stream_executor/cuda/cuda_asm_compiler.cc:393] ptxas warning : Registers are spilled to local memory in function 'gemm_fusion_dot_12202', 12 bytes spill stores, 12 bytes spill loads\n",
      "\n",
      "2025-04-10 15:28:45.775178: I external/local_xla/xla/stream_executor/cuda/cuda_asm_compiler.cc:393] ptxas warning : Registers are spilled to local memory in function 'gemm_fusion_dot_12202', 8 bytes spill stores, 8 bytes spill loads\n",
      "\n"
     ]
    },
    {
     "name": "stdout",
     "output_type": "stream",
     "text": [
      "\u001b[1m14659/14659\u001b[0m \u001b[32m━━━━━━━━━━━━━━━━━━━━\u001b[0m\u001b[37m\u001b[0m \u001b[1m0s\u001b[0m 104ms/step - bbox_output_loss: 15677.6611 - bbox_output_mae: 101.4024 - class_output_accuracy: 0.1232 - class_output_loss: 4.3521 - loss: 15682.0146\n",
      "Epoch 1: val_bbox_output_loss improved from inf to 15563.50195, saving model to /home/utkarsh/Desktop/Sem-2/Deep Learning/2024PGCSDS14_Utkarsh Saxena_DeepLearning/DLProject/best_model_bbox.keras\n",
      "\u001b[1m14659/14659\u001b[0m \u001b[32m━━━━━━━━━━━━━━━━━━━━\u001b[0m\u001b[37m\u001b[0m \u001b[1m1572s\u001b[0m 106ms/step - bbox_output_loss: 15677.6582 - bbox_output_mae: 101.4024 - class_output_accuracy: 0.1232 - class_output_loss: 4.3520 - loss: 15682.0107 - val_bbox_output_loss: 15563.5020 - val_bbox_output_mae: 100.9827 - val_class_output_accuracy: 0.2952 - val_class_output_loss: 5.6276 - val_loss: 15569.1406\n",
      "Epoch 2/5\n",
      "\u001b[1m14658/14659\u001b[0m \u001b[32m━━━━━━━━━━━━━━━━━━━\u001b[0m\u001b[37m━\u001b[0m \u001b[1m0s\u001b[0m 102ms/step - bbox_output_loss: 15604.7295 - bbox_output_mae: 101.2253 - class_output_accuracy: 0.3001 - class_output_loss: 3.0727 - loss: 15607.7861\n",
      "Epoch 2: val_bbox_output_loss improved from 15563.50195 to 15550.79004, saving model to /home/utkarsh/Desktop/Sem-2/Deep Learning/2024PGCSDS14_Utkarsh Saxena_DeepLearning/DLProject/best_model_bbox.keras\n",
      "\u001b[1m14659/14659\u001b[0m \u001b[32m━━━━━━━━━━━━━━━━━━━━\u001b[0m\u001b[37m\u001b[0m \u001b[1m1513s\u001b[0m 103ms/step - bbox_output_loss: 15604.7314 - bbox_output_mae: 101.2252 - class_output_accuracy: 0.3001 - class_output_loss: 3.0727 - loss: 15607.7881 - val_bbox_output_loss: 15550.7900 - val_bbox_output_mae: 100.9248 - val_class_output_accuracy: 0.3189 - val_class_output_loss: 2.7198 - val_loss: 15553.5107\n",
      "Epoch 3/5\n",
      "\u001b[1m14658/14659\u001b[0m \u001b[32m━━━━━━━━━━━━━━━━━━━\u001b[0m\u001b[37m━\u001b[0m \u001b[1m0s\u001b[0m 102ms/step - bbox_output_loss: 15640.4434 - bbox_output_mae: 101.2368 - class_output_accuracy: 0.3134 - class_output_loss: 2.8345 - loss: 15643.2559\n",
      "Epoch 3: val_bbox_output_loss did not improve from 15550.79004\n",
      "\u001b[1m14659/14659\u001b[0m \u001b[32m━━━━━━━━━━━━━━━━━━━━\u001b[0m\u001b[37m\u001b[0m \u001b[1m1515s\u001b[0m 103ms/step - bbox_output_loss: 15640.4404 - bbox_output_mae: 101.2368 - class_output_accuracy: 0.3134 - class_output_loss: 2.8345 - loss: 15643.2529 - val_bbox_output_loss: 15550.7900 - val_bbox_output_mae: 100.9248 - val_class_output_accuracy: 0.3223 - val_class_output_loss: 2.6223 - val_loss: 15553.4102\n",
      "Epoch 4/5\n",
      "\u001b[1m14658/14659\u001b[0m \u001b[32m━━━━━━━━━━━━━━━━━━━\u001b[0m\u001b[37m━\u001b[0m \u001b[1m0s\u001b[0m 102ms/step - bbox_output_loss: 15612.3223 - bbox_output_mae: 101.2214 - class_output_accuracy: 0.3116 - class_output_loss: 2.8249 - loss: 15615.1338\n",
      "Epoch 4: val_bbox_output_loss did not improve from 15550.79004\n",
      "\u001b[1m14659/14659\u001b[0m \u001b[32m━━━━━━━━━━━━━━━━━━━━\u001b[0m\u001b[37m\u001b[0m \u001b[1m1515s\u001b[0m 103ms/step - bbox_output_loss: 15612.3223 - bbox_output_mae: 101.2214 - class_output_accuracy: 0.3116 - class_output_loss: 2.8249 - loss: 15615.1338 - val_bbox_output_loss: 15550.7900 - val_bbox_output_mae: 100.9248 - val_class_output_accuracy: 0.3148 - val_class_output_loss: 2.7406 - val_loss: 15553.5332\n",
      "Epoch 5/5\n",
      "\u001b[1m14658/14659\u001b[0m \u001b[32m━━━━━━━━━━━━━━━━━━━\u001b[0m\u001b[37m━\u001b[0m \u001b[1m0s\u001b[0m 102ms/step - bbox_output_loss: 15616.1152 - bbox_output_mae: 101.1732 - class_output_accuracy: 0.3107 - class_output_loss: 2.8564 - loss: 15618.9912\n",
      "Epoch 5: val_bbox_output_loss did not improve from 15550.79004\n",
      "\u001b[1m14659/14659\u001b[0m \u001b[32m━━━━━━━━━━━━━━━━━━━━\u001b[0m\u001b[37m\u001b[0m \u001b[1m1515s\u001b[0m 103ms/step - bbox_output_loss: 15616.1152 - bbox_output_mae: 101.1732 - class_output_accuracy: 0.3107 - class_output_loss: 2.8564 - loss: 15618.9912 - val_bbox_output_loss: 15550.7900 - val_bbox_output_mae: 100.9248 - val_class_output_accuracy: 0.3146 - val_class_output_loss: 2.7338 - val_loss: 15553.5137\n"
     ]
    },
    {
     "data": {
      "text/plain": [
       "<keras.src.callbacks.history.History at 0x7b48168e1b90>"
      ]
     },
     "execution_count": 17,
     "metadata": {},
     "output_type": "execute_result"
    }
   ],
   "source": [
    "model.fit(\n",
    "    train_dataset,\n",
    "    epochs = 5,\n",
    "    validation_data = val_dataset,\n",
    "    callbacks = [checkpoint]\n",
    ")"
   ]
  }
 ],
 "metadata": {
  "kernelspec": {
   "display_name": "tensorflow_testing",
   "language": "python",
   "name": "python3"
  },
  "language_info": {
   "codemirror_mode": {
    "name": "ipython",
    "version": 3
   },
   "file_extension": ".py",
   "mimetype": "text/x-python",
   "name": "python",
   "nbconvert_exporter": "python",
   "pygments_lexer": "ipython3",
   "version": "3.11.11"
  }
 },
 "nbformat": 4,
 "nbformat_minor": 2
}
