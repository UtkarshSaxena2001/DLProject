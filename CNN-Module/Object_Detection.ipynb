{
 "cells": [
  {
   "cell_type": "markdown",
   "metadata": {},
   "source": [
    "Libraries Used"
   ]
  },
  {
   "cell_type": "code",
   "execution_count": 34,
   "metadata": {},
   "outputs": [],
   "source": [
    "import json as js\n",
    "import cv2\n",
    "import numpy as np\n",
    "from os import listdir as ld\n",
    "from os import path\n",
    "from keras.models import Model #type: ignore\n",
    "from keras.layers import Conv2D, MaxPooling2D, Flatten, Dense, Input, Reshape #type: ignore\n",
    "from keras.optimizers import Adam #type: ignore\n",
    "from keras.utils import Sequence #type: ignore\n",
    "from tqdm import tqdm"
   ]
  },
  {
   "cell_type": "markdown",
   "metadata": {},
   "source": [
    "Loading Paths"
   ]
  },
  {
   "cell_type": "code",
   "execution_count": 3,
   "metadata": {},
   "outputs": [],
   "source": [
    "with open(\"config_CNN.json\",'r') as file:\n",
    "    paths = js.load(file)"
   ]
  },
  {
   "cell_type": "markdown",
   "metadata": {},
   "source": [
    "Defining model"
   ]
  },
  {
   "cell_type": "code",
   "execution_count": 35,
   "metadata": {},
   "outputs": [],
   "source": [
    "def CNN_Extractor():\n",
    "    inputs = Input(shape=(256, 256, 3))\n",
    "    x = Conv2D(64, (3, 3), activation='relu', padding='same')(inputs)\n",
    "    x = MaxPooling2D((2, 2))(x)\n",
    "    x = Conv2D(32, (3, 3), activation='relu', padding='same')(x)\n",
    "    x = MaxPooling2D((2, 2))(x)\n",
    "    x = Conv2D(16, (3, 3), activation='relu', padding='same')(x)\n",
    "    outputs = MaxPooling2D((2, 2))(x)\n",
    "    model = Model(inputs, outputs)\n",
    "    return model"
   ]
  },
  {
   "cell_type": "markdown",
   "metadata": {},
   "source": [
    "Loading and croping bounding box for training"
   ]
  },
  {
   "cell_type": "code",
   "execution_count": null,
   "metadata": {},
   "outputs": [
    {
     "name": "stderr",
     "output_type": "stream",
     "text": [
      "100%|██████████| 118287/118287 [10:44<00:00, 183.44it/s]\n"
     ]
    }
   ],
   "source": [
    "training_path = paths[\"Train_resized\"]\n",
    "training_json = paths[\"Preprocessed_Train_json\"]\n",
    "cropped_train_path = paths['Cropped_Train_Images']\n",
    "\n",
    "with open(training_json,'r') as file:\n",
    "    Boxes = js.load(file)\n",
    "\n",
    "for i in tqdm(ld(training_path)):\n",
    "    images = path.join(training_path,i)\n",
    "    img = cv2.imread(images)\n",
    "    for j in Boxes:\n",
    "        if i == j[\"img_id\"]:\n",
    "            x,y,w,h = [int(z) for z in j[\"bbox\"]]\n",
    "            cropped_img = img[y:y+h, x:x+w]\n",
    "            cropped_img = cv2.resize(cropped_img, (256, 256), interpolation=cv2.INTER_LINEAR) \n",
    "            filename = j[\"label\"] + \"-\" + i\n",
    "            output_path = path.join(cropped_train_path, filename)\n",
    "            cv2.imwrite(output_path, cropped_img)\n",
    "            break"
   ]
  },
  {
   "cell_type": "markdown",
   "metadata": {},
   "source": [
    "Loading and croping bounding box for validation"
   ]
  },
  {
   "cell_type": "code",
   "execution_count": null,
   "metadata": {},
   "outputs": [
    {
     "name": "stderr",
     "output_type": "stream",
     "text": [
      "100%|██████████| 5000/5000 [00:11<00:00, 437.51it/s]\n"
     ]
    }
   ],
   "source": [
    "val_path = paths[\"Validation_resized\"]\n",
    "val_json = paths[\"Preprocessed_Validation_json\"]\n",
    "cropped_val_path = paths['Cropped_Validation_Images']\n",
    "\n",
    "with open(val_json,'r') as file:\n",
    "    Boxes = js.load(file)\n",
    "\n",
    "for i in tqdm(ld(val_path)):\n",
    "    images = path.join(val_path,i)\n",
    "    img = cv2.imread(images)\n",
    "    for j in Boxes:\n",
    "        if i == j[\"img_id\"]:\n",
    "            x,y,w,h = [int(z) for z in j[\"bbox\"]]\n",
    "            cropped_img = img[y:y+h, x:x+w]\n",
    "            cropped_img = cv2.resize(cropped_img, (256, 256), interpolation=cv2.INTER_LINEAR) \n",
    "            filename = j[\"label\"] + \"-\" + i\n",
    "            output_path = path.join(cropped_val_path, filename)\n",
    "            cv2.imwrite(output_path, cropped_img)\n",
    "            break"
   ]
  },
  {
   "cell_type": "markdown",
   "metadata": {},
   "source": [
    "Extracting features"
   ]
  },
  {
   "cell_type": "code",
   "execution_count": null,
   "metadata": {},
   "outputs": [
    {
     "name": "stderr",
     "output_type": "stream",
     "text": [
      " 15%|█▌        | 17969/117266 [13:22<1:15:38, 21.88it/s]"
     ]
    }
   ],
   "source": [
    "feature_extractor = CNN_Extractor()\n",
    "image_dir = paths[\"Cropped_Train_Images\"] \n",
    "features = []\n",
    "\n",
    "for img_name in tqdm(ld(image_dir)):\n",
    "    img_path = path.join(image_dir, img_name)\n",
    "    img = cv2.imread(img_path)\n",
    "    img = cv2.resize(img, (256, 256))\n",
    "    img = img.astype('float32') / 255.0  \n",
    "    img = np.expand_dims(img, axis=0)    \n",
    "    feature = feature_extractor.predict(img, verbose=0)\n",
    "    features.append(feature.squeeze())   \n",
    "\n",
    "features_array = np.array(features)\n",
    "np.save(paths[\"Saved_Training_Features\"], features_array)"
   ]
  }
 ],
 "metadata": {
  "kernelspec": {
   "display_name": "tensorflow_testing",
   "language": "python",
   "name": "python3"
  },
  "language_info": {
   "codemirror_mode": {
    "name": "ipython",
    "version": 3
   },
   "file_extension": ".py",
   "mimetype": "text/x-python",
   "name": "python",
   "nbconvert_exporter": "python",
   "pygments_lexer": "ipython3",
   "version": "3.11.11"
  }
 },
 "nbformat": 4,
 "nbformat_minor": 2
}
