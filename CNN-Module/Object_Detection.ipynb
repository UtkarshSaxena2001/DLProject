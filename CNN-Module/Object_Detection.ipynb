{
 "cells": [
  {
   "cell_type": "markdown",
   "metadata": {},
   "source": [
    "Libraries Used"
   ]
  },
  {
   "cell_type": "code",
   "execution_count": 1,
   "metadata": {},
   "outputs": [],
   "source": [
    "import json as js\n",
    "import cv2\n",
    "import tensorflow as tf\n",
    "import pandas as pd\n",
    "import numpy as np\n",
    "from os import listdir as ld\n",
    "from os import path\n",
    "from keras.models import Model #type: ignore\n",
    "from keras import layers,models #type: ignore\n",
    "from tqdm import tqdm\n",
    "from keras.utils import to_categorical"
   ]
  },
  {
   "cell_type": "markdown",
   "metadata": {},
   "source": [
    "Loading Paths"
   ]
  },
  {
   "cell_type": "code",
   "execution_count": 4,
   "metadata": {},
   "outputs": [],
   "source": [
    "with open(\"config_CNN.json\",'r') as file:\n",
    "    paths = js.load(file)"
   ]
  },
  {
   "cell_type": "markdown",
   "metadata": {},
   "source": [
    "Creating Datasets"
   ]
  },
  {
   "cell_type": "code",
   "execution_count": null,
   "metadata": {},
   "outputs": [],
   "source": [
    "# Configuration\n",
    "train_img_dir = paths['Train_resized']\n",
    "train_annotation = paths['Preprocessed_Train_json']\n",
    "val_img_dir = paths['Validation_resized']\n",
    "val_annotation = paths['Preprocessed_Validation_json']\n",
    "IMG_SIZE = (224, 224)\n",
    "NUM_CLASSES = 3\n",
    "\n",
    "# Load JSON annotations\n",
    "with open(train_annotation, 'r') as f:\n",
    "    train_annotations = js.load(f)\n",
    "with open(val_annotation, 'r') as f:\n",
    "    val_annotations = js.load(f)\n",
    "\n",
    "# Create a list of (image_path, bbox, label)\n",
    "train_data = []\n",
    "val_data = []\n",
    "for filename, info in train_annotations.items():\n",
    "    bbox = info['bbox']  # [x, y, w, h] in pixels\n",
    "    label = info['label']\n",
    "    image_path = path.join(IMAGE_DIR, filename)\n",
    "    data.append((image_path, bbox, label))\n",
    "\n",
    "# Helper to load and preprocess one example\n",
    "def preprocess_example(image_path, bbox, label):\n",
    "    image = tf.io.read_file(image_path)\n",
    "    image = tf.image.decode_jpeg(image, channels=3)\n",
    "    image = tf.cast(image, tf.float32) / 256.0\n",
    "\n",
    "    bbox_tensor = tf.stack(bbox)\n",
    "    class_tensor = tf.one_hot(label, depth=NUM_CLASSES)\n",
    "\n",
    "    return image, {\"bbox\": bbox_tensor, \"class\": class_tensor}\n",
    "\n",
    "# Build tf.data.Dataset\n",
    "def create_dataset(data, batch_size=32, shuffle=True):\n",
    "    paths, bboxes, labels = zip(*data)\n",
    "\n",
    "    dataset = tf.data.Dataset.from_tensor_slices((list(paths), list(bboxes), list(labels)))\n",
    "    \n",
    "    if shuffle:\n",
    "        dataset = dataset.shuffle(buffer_size=len(data))\n",
    "\n",
    "    dataset = dataset.map(lambda p, b, l: preprocess_example(p, b, l), num_parallel_calls=tf.data.AUTOTUNE)\n",
    "    dataset = dataset.batch(batch_size).prefetch(tf.data.AUTOTUNE)\n",
    "\n",
    "    return dataset\n",
    "\n",
    "train_dataset = create_dataset(train_data)\n",
    "val_dataset = create_dataset(val_data, shuffle=False)\n"
   ]
  },
  {
   "cell_type": "markdown",
   "metadata": {},
   "source": [
    "Defining model"
   ]
  },
  {
   "cell_type": "code",
   "execution_count": null,
   "metadata": {},
   "outputs": [],
   "source": [
    "def inception_block(x, filters):\n",
    "    branch1x1 = layers.Conv2D(filters, (1, 1), padding='same', activation='relu')(x)\n",
    "    branch3x3 = layers.Conv2D(filters, (1, 1), padding='same', activation='relu')(x)\n",
    "    branch3x3 = layers.Conv2D(filters, (3, 3), padding='same', activation='relu')(branch3x3)\n",
    "    branch5x5 = layers.Conv2D(filters, (1, 1), padding='same', activation='relu')(x)\n",
    "    branch5x5 = layers.Conv2D(filters, (5, 5), padding='same', activation='relu')(branch5x5)\n",
    "    branch_pool = layers.MaxPooling2D((3, 3), strides=(1, 1), padding='same')(x)\n",
    "    branch_pool = layers.Conv2D(filters, (1, 1), padding='same', activation='relu')(branch_pool)\n",
    "    x = layers.concatenate([branch1x1, branch3x3, branch5x5, branch_pool], axis=-1)\n",
    "    x = layers.BatchNormalization()(x)\n",
    "    return x\n",
    "\n",
    "def mbconv_block(x, filters, kernel_size, strides=(1, 1), expand_ratio=6):\n",
    "    input_tensor = x\n",
    "    in_channels = x.shape[-1]\n",
    "    x = layers.Conv2D(in_channels * expand_ratio, (1, 1), padding='same', use_bias=False)(x)\n",
    "    x = layers.BatchNormalization()(x)\n",
    "    x = layers.ReLU()(x)\n",
    "    x = layers.DepthwiseConv2D(kernel_size, strides=strides, padding='same', use_bias=False)(x)\n",
    "    x = layers.BatchNormalization()(x)\n",
    "    x = layers.ReLU()(x)\n",
    "    x = layers.Conv2D(filters, (1, 1), padding='same', use_bias=False)(x)\n",
    "    x = layers.BatchNormalization()(x)\n",
    "\n",
    "    if strides == (1, 1) and in_channels == filters:\n",
    "        x = layers.add([x, input_tensor])\n",
    "    return x\n",
    "\n",
    "def efficientnet_encoder(input_shape=(224, 224, 3)):\n",
    "    inputs = layers.Input(shape=input_shape)\n",
    "    x = layers.Conv2D(32, (3, 3), strides=(2, 2), padding=\"same\", use_bias=False, kernel_initializer='he_normal')(inputs)\n",
    "    x = layers.BatchNormalization()(x)\n",
    "    x = layers.ReLU()(x)\n",
    "    x = mbconv_block(x, 64, (3, 3), strides=(1, 1), expand_ratio=1)\n",
    "    x = mbconv_block(x, 128, (3, 3), strides=(2, 2), expand_ratio=6)\n",
    "    x = mbconv_block(x, 128, (3, 3), strides=(1, 1), expand_ratio=6)\n",
    "    x = mbconv_block(x, 256, (3, 3), strides=(2, 2), expand_ratio=6)\n",
    "    x = mbconv_block(x, 256, (3, 3), strides=(1, 1), expand_ratio=6)\n",
    "    x = mbconv_block(x, 512, (3, 3), strides=(2, 2), expand_ratio=6)\n",
    "    x = mbconv_block(x, 512, (3, 3), strides=(1, 1), expand_ratio=6)\n",
    "    x = mbconv_block(x, 1024, (3, 3), strides=(2, 2), expand_ratio=6)\n",
    "    return models.Model(inputs, x, name=\"efficientnet_encoder\")\n",
    "\n",
    "def inception_decoder(input_tensor, num_classes=3):\n",
    "    x = inception_block(input_tensor, 32)\n",
    "    x = inception_block(x, 64)\n",
    "    x = inception_block(x, 128)\n",
    "    x = inception_block(x, 256)\n",
    "    x = layers.GlobalAveragePooling2D()(x)\n",
    "    x = layers.Dense(512, activation='relu')(x)\n",
    "    x = layers.BatchNormalization()(x)\n",
    "    x = layers.Dropout(0.5)(x)\n",
    "    bbox_output = layers.Dense(4, activation='sigmoid', name=\"bbox\")(x)  \n",
    "    class_output = layers.Dense(num_classes, activation='softmax', name=\"class\")(x)\n",
    "    return models.Model(input_tensor, [bbox_output, class_output], name=\"inception_decoder\")\n",
    "\n",
    "def custom_detection_model(input_shape=(224, 224, 3), num_classes=3):\n",
    "    encoder = efficientnet_encoder(input_shape)\n",
    "    image_input = encoder.input\n",
    "    x = encoder.output\n",
    "    x = layers.GlobalAveragePooling2D()(x)\n",
    "    x = layers.Dense(1024, activation='relu')(x)\n",
    "    x = layers.Reshape((1, 1, 1024))(x)\n",
    "    x = layers.Conv2D(1024, (1, 1), activation='relu')(x)\n",
    "    x = layers.BatchNormalization()(x)\n",
    "    decoder = inception_decoder(input_tensor=x, num_classes=num_classes)\n",
    "    bbox_output, class_output = decoder(x)\n",
    "    model = models.Model(inputs=image_input, outputs=[bbox_output, class_output])\n",
    "\n",
    "    model.compile(\n",
    "        optimizer=tf.keras.optimizers.Adam(learning_rate=1e-4),\n",
    "        loss={\n",
    "            \"bbox\": \"mse\", \n",
    "            \"class\": \"categorical_crossentropy\"\n",
    "        },\n",
    "        metrics={\n",
    "            \"bbox\": \"mae\",\n",
    "            \"class\": \"accuracy\"\n",
    "        }\n",
    "    )\n",
    "    return model"
   ]
  },
  {
   "cell_type": "markdown",
   "metadata": {},
   "source": [
    "Model training "
   ]
  },
  {
   "cell_type": "code",
   "execution_count": null,
   "metadata": {},
   "outputs": [
    {
     "name": "stderr",
     "output_type": "stream",
     "text": [
      "100%|██████████| 117266/117266 [1:27:02<00:00, 22.45it/s]\n"
     ]
    }
   ],
   "source": [
    "model = custom_detection_model(input_shape=(224, 224, 3), num_classes=80)\n",
    "model.fit(\n",
    "    paths[\"Train_resized\"],       \n",
    "    epochs=10,\n",
    "    validation_data=paths[\"Validation_resized\"]\n",
    ")"
   ]
  }
 ],
 "metadata": {
  "kernelspec": {
   "display_name": "tensorflow_testing",
   "language": "python",
   "name": "python3"
  },
  "language_info": {
   "codemirror_mode": {
    "name": "ipython",
    "version": 3
   },
   "file_extension": ".py",
   "mimetype": "text/x-python",
   "name": "python",
   "nbconvert_exporter": "python",
   "pygments_lexer": "ipython3",
   "version": "3.11.11"
  }
 },
 "nbformat": 4,
 "nbformat_minor": 2
}
