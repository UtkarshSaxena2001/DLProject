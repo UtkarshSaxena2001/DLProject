{
 "cells": [
  {
   "cell_type": "markdown",
   "metadata": {},
   "source": [
    "Libraries Used"
   ]
  },
  {
   "cell_type": "code",
   "execution_count": 1,
   "metadata": {},
   "outputs": [
    {
     "name": "stderr",
     "output_type": "stream",
     "text": [
      "2025-04-20 04:05:51.575287: E external/local_xla/xla/stream_executor/cuda/cuda_fft.cc:485] Unable to register cuFFT factory: Attempting to register factory for plugin cuFFT when one has already been registered\n",
      "2025-04-20 04:05:51.589266: E external/local_xla/xla/stream_executor/cuda/cuda_dnn.cc:8454] Unable to register cuDNN factory: Attempting to register factory for plugin cuDNN when one has already been registered\n",
      "2025-04-20 04:05:51.593021: E external/local_xla/xla/stream_executor/cuda/cuda_blas.cc:1452] Unable to register cuBLAS factory: Attempting to register factory for plugin cuBLAS when one has already been registered\n",
      "2025-04-20 04:05:51.604272: I tensorflow/core/platform/cpu_feature_guard.cc:210] This TensorFlow binary is optimized to use available CPU instructions in performance-critical operations.\n",
      "To enable the following instructions: SSE4.1 SSE4.2 AVX AVX2 FMA, in other operations, rebuild TensorFlow with the appropriate compiler flags.\n"
     ]
    }
   ],
   "source": [
    "import json as js\n",
    "import tensorflow as tf\n",
    "from os import listdir as ld\n",
    "from os import path\n",
    "from keras.models import Model #type: ignore\n",
    "from keras import layers,models #type: ignore\n",
    "from tqdm import tqdm\n",
    "from keras.utils import to_categorical #type: ignore\n",
    "from keras.losses import Huber #type: ignore"
   ]
  },
  {
   "cell_type": "markdown",
   "metadata": {},
   "source": [
    "Loading Paths"
   ]
  },
  {
   "cell_type": "code",
   "execution_count": 2,
   "metadata": {},
   "outputs": [],
   "source": [
    "with open(\"config_CNN.json\",'r') as file:\n",
    "    paths = js.load(file)"
   ]
  },
  {
   "cell_type": "markdown",
   "metadata": {},
   "source": [
    "Creating Datasets"
   ]
  },
  {
   "cell_type": "code",
   "execution_count": 3,
   "metadata": {},
   "outputs": [
    {
     "name": "stdout",
     "output_type": "stream",
     "text": [
      "Processing Training Data\n"
     ]
    },
    {
     "name": "stderr",
     "output_type": "stream",
     "text": [
      "100%|██████████| 117266/117266 [00:00<00:00, 550816.35it/s]\n"
     ]
    },
    {
     "name": "stdout",
     "output_type": "stream",
     "text": [
      "Processing Validation Data\n"
     ]
    },
    {
     "name": "stderr",
     "output_type": "stream",
     "text": [
      "100%|██████████| 4952/4952 [00:00<00:00, 424913.43it/s]\n",
      "WARNING: All log messages before absl::InitializeLog() is called are written to STDERR\n",
      "I0000 00:00:1745102155.283556  488185 cuda_executor.cc:1015] successful NUMA node read from SysFS had negative value (-1), but there must be at least one NUMA node, so returning NUMA node zero. See more at https://github.com/torvalds/linux/blob/v6.0/Documentation/ABI/testing/sysfs-bus-pci#L344-L355\n",
      "I0000 00:00:1745102155.330742  488185 cuda_executor.cc:1015] successful NUMA node read from SysFS had negative value (-1), but there must be at least one NUMA node, so returning NUMA node zero. See more at https://github.com/torvalds/linux/blob/v6.0/Documentation/ABI/testing/sysfs-bus-pci#L344-L355\n",
      "I0000 00:00:1745102155.333098  488185 cuda_executor.cc:1015] successful NUMA node read from SysFS had negative value (-1), but there must be at least one NUMA node, so returning NUMA node zero. See more at https://github.com/torvalds/linux/blob/v6.0/Documentation/ABI/testing/sysfs-bus-pci#L344-L355\n",
      "I0000 00:00:1745102155.336160  488185 cuda_executor.cc:1015] successful NUMA node read from SysFS had negative value (-1), but there must be at least one NUMA node, so returning NUMA node zero. See more at https://github.com/torvalds/linux/blob/v6.0/Documentation/ABI/testing/sysfs-bus-pci#L344-L355\n",
      "I0000 00:00:1745102155.344407  488185 cuda_executor.cc:1015] successful NUMA node read from SysFS had negative value (-1), but there must be at least one NUMA node, so returning NUMA node zero. See more at https://github.com/torvalds/linux/blob/v6.0/Documentation/ABI/testing/sysfs-bus-pci#L344-L355\n",
      "I0000 00:00:1745102155.347075  488185 cuda_executor.cc:1015] successful NUMA node read from SysFS had negative value (-1), but there must be at least one NUMA node, so returning NUMA node zero. See more at https://github.com/torvalds/linux/blob/v6.0/Documentation/ABI/testing/sysfs-bus-pci#L344-L355\n",
      "I0000 00:00:1745102155.524415  488185 cuda_executor.cc:1015] successful NUMA node read from SysFS had negative value (-1), but there must be at least one NUMA node, so returning NUMA node zero. See more at https://github.com/torvalds/linux/blob/v6.0/Documentation/ABI/testing/sysfs-bus-pci#L344-L355\n",
      "I0000 00:00:1745102155.533173  488185 cuda_executor.cc:1015] successful NUMA node read from SysFS had negative value (-1), but there must be at least one NUMA node, so returning NUMA node zero. See more at https://github.com/torvalds/linux/blob/v6.0/Documentation/ABI/testing/sysfs-bus-pci#L344-L355\n",
      "I0000 00:00:1745102155.535578  488185 cuda_executor.cc:1015] successful NUMA node read from SysFS had negative value (-1), but there must be at least one NUMA node, so returning NUMA node zero. See more at https://github.com/torvalds/linux/blob/v6.0/Documentation/ABI/testing/sysfs-bus-pci#L344-L355\n",
      "2025-04-20 04:05:55.536858: I tensorflow/core/common_runtime/gpu/gpu_device.cc:2021] Created device /job:localhost/replica:0/task:0/device:GPU:0 with 2256 MB memory:  -> device: 0, name: NVIDIA GeForce RTX 3060 Laptop GPU, pci bus id: 0000:01:00.0, compute capability: 8.6\n"
     ]
    }
   ],
   "source": [
    "train_img_dir = paths['Train_resized']\n",
    "train_annotation = paths['Preprocessed_Train_json']\n",
    "val_img_dir = paths['Validation_resized']\n",
    "val_annotation = paths['Preprocessed_Validation_json']\n",
    "NUM_CLASSES = 80\n",
    "\n",
    "with open(train_annotation, 'r') as f:\n",
    "    train_annotations = js.load(f)\n",
    "    \n",
    "with open(val_annotation, 'r') as f:\n",
    "    val_annotations = js.load(f)\n",
    "\n",
    "train_data = []\n",
    "val_data = []\n",
    "\n",
    "print(\"Processing Training Data\")\n",
    "for info in tqdm(train_annotations):\n",
    "    bbox = info['bbox']\n",
    "    label = info['category_id']\n",
    "    image_path = path.join(train_img_dir, info[\"img_id\"])\n",
    "    train_data.append((image_path, bbox, label))\n",
    "\n",
    "print(\"Processing Validation Data\")\n",
    "for info in tqdm(val_annotations):\n",
    "    bbox = info['bbox']\n",
    "    label = info['category_id']\n",
    "    image_path = path.join(val_img_dir, info[\"img_id\"])\n",
    "    val_data.append((image_path, bbox, label))\n",
    "\n",
    "def preprocess_example(image_path, bbox, label):\n",
    "    image = tf.io.read_file(image_path)\n",
    "    image = tf.image.decode_jpeg(image, channels=3)\n",
    "    image = tf.cast(image, tf.float32) / 255.0\n",
    "    bbox_tensor = tf.stack(bbox)\n",
    "    class_tensor = tf.one_hot(label, depth=NUM_CLASSES)\n",
    "    return image, {\n",
    "        \"class_output\": class_tensor,\n",
    "        \"bbox_output\": bbox_tensor\n",
    "    }\n",
    "\n",
    "def create_dataset(data, batch_size=4, shuffle=True):\n",
    "    paths, bboxes, labels = zip(*data)\n",
    "    dataset = tf.data.Dataset.from_tensor_slices((list(paths), list(bboxes), list(labels)))\n",
    "\n",
    "    if shuffle:\n",
    "        dataset = dataset.shuffle(buffer_size=len(data))\n",
    "\n",
    "    dataset = dataset.map(lambda p, b, l: preprocess_example(p, b, l), num_parallel_calls=tf.data.AUTOTUNE)\n",
    "    dataset = dataset.batch(batch_size).prefetch(tf.data.AUTOTUNE)\n",
    "    return dataset\n",
    "\n",
    "train_dataset = create_dataset(train_data)\n",
    "val_dataset = create_dataset(val_data, shuffle=False)\n"
   ]
  },
  {
   "cell_type": "markdown",
   "metadata": {},
   "source": [
    "Defining model"
   ]
  },
  {
   "cell_type": "code",
   "execution_count": 4,
   "metadata": {},
   "outputs": [],
   "source": [
    "def compute_iou_tf(box1, box2):\n",
    "    box1_x1 = box1[:, 0]\n",
    "    box1_y1 = box1[:, 1]\n",
    "    box1_x2 = box1[:, 0] + box1[:, 2]\n",
    "    box1_y2 = box1[:, 1] + box1[:, 3]\n",
    "    box2_x1 = box2[:, 0]\n",
    "    box2_y1 = box2[:, 1]\n",
    "    box2_x2 = box2[:, 0] + box2[:, 2]\n",
    "    box2_y2 = box2[:, 1] + box2[:, 3]\n",
    "    x1 = tf.maximum(box1_x1, box2_x1)\n",
    "    y1 = tf.maximum(box1_y1, box2_y1)\n",
    "    x2 = tf.minimum(box1_x2, box2_x2)\n",
    "    y2 = tf.minimum(box1_y2, box2_y2)\n",
    "    intersection = tf.maximum(0.0, x2 - x1) * tf.maximum(0.0, y2 - y1)\n",
    "    area1 = box1[:, 2] * box1[:, 3]\n",
    "    area2 = box2[:, 2] * box2[:, 3]\n",
    "    union = area1 + area2 - intersection\n",
    "    return tf.math.divide_no_nan(intersection, union)"
   ]
  },
  {
   "cell_type": "code",
   "execution_count": 5,
   "metadata": {},
   "outputs": [],
   "source": [
    "class IoUMetric(tf.keras.metrics.Metric):\n",
    "    def __init__(self, name='iou_metric', **kwargs):\n",
    "        super(IoUMetric, self).__init__(name=name, **kwargs)\n",
    "        self.total_iou = self.add_weight(name='total_iou', initializer='zeros')\n",
    "        self.count = self.add_weight(name='count', initializer='zeros')\n",
    "\n",
    "    def update_state(self, y_true, y_pred, sample_weight=None):\n",
    "        y_true = tf.reshape(y_true, (-1, 4))\n",
    "        y_pred = tf.reshape(y_pred, (-1, 4))\n",
    "        ious = compute_iou_tf(y_true, y_pred)\n",
    "        self.total_iou.assign_add(tf.reduce_sum(ious))\n",
    "        self.count.assign_add(tf.cast(tf.size(ious), tf.float32))\n",
    "\n",
    "    def result(self):\n",
    "        return tf.math.divide_no_nan(self.total_iou, self.count)\n",
    "\n",
    "    def reset_states(self):\n",
    "        self.total_iou.assign(0.0)\n",
    "        self.count.assign(0.0)\n"
   ]
  },
  {
   "cell_type": "code",
   "execution_count": 6,
   "metadata": {},
   "outputs": [],
   "source": [
    "def inception_block(x, filters):\n",
    "    branch1x1 = layers.Conv2D(filters, (1, 1), padding='same', activation='relu')(x)\n",
    "    branch3x3 = layers.Conv2D(filters, (1, 1), padding='same', activation='relu')(x)\n",
    "    branch3x3 = layers.Conv2D(filters, (3, 3), padding='same', activation='relu')(branch3x3)\n",
    "    branch5x5 = layers.Conv2D(filters, (1, 1), padding='same', activation='relu')(x)\n",
    "    branch5x5 = layers.Conv2D(filters, (5, 5), padding='same', activation='relu')(branch5x5)\n",
    "    branch_pool = layers.MaxPooling2D((3, 3), strides=(1, 1), padding='same')(x)\n",
    "    branch_pool = layers.Conv2D(filters, (1, 1), padding='same', activation='relu')(branch_pool)\n",
    "    x = layers.concatenate([branch1x1, branch3x3, branch5x5, branch_pool], axis=-1)\n",
    "    x = layers.BatchNormalization()(x)\n",
    "    return x\n",
    "\n",
    "def mbconv_block(x, filters, kernel_size, strides=(1, 1), expand_ratio=6):\n",
    "    input_tensor = x\n",
    "    in_channels = x.shape[-1]\n",
    "    x = layers.Conv2D(in_channels * expand_ratio, (1, 1), padding='same', use_bias=False)(x)\n",
    "    x = layers.BatchNormalization()(x)\n",
    "    x = layers.ReLU()(x)\n",
    "    x = layers.DepthwiseConv2D(kernel_size, strides=strides, padding='same', use_bias=False)(x)\n",
    "    x = layers.BatchNormalization()(x)\n",
    "    x = layers.ReLU()(x)\n",
    "    x = layers.Conv2D(filters, (1, 1), padding='same', use_bias=False)(x)\n",
    "    x = layers.BatchNormalization()(x)\n",
    "\n",
    "    if strides == (1, 1) and in_channels == filters:\n",
    "        x = layers.add([x, input_tensor])\n",
    "    return x\n",
    "\n",
    "def efficientnet_encoder(input_shape=(256, 256, 3)):\n",
    "    inputs = layers.Input(shape=input_shape)\n",
    "    x = layers.Conv2D(32, (3, 3), strides=(2, 2), padding=\"same\", use_bias=False)(inputs)\n",
    "    x = layers.BatchNormalization()(x)\n",
    "    x = layers.ReLU()(x)\n",
    "    x = mbconv_block(x, 64, (3, 3), strides=(1, 1), expand_ratio=1)\n",
    "    x = mbconv_block(x, 128, (3, 3), strides=(2, 2), expand_ratio=6)\n",
    "    x = mbconv_block(x, 128, (3, 3), strides=(1, 1), expand_ratio=6)\n",
    "    return models.Model(inputs, x, name=\"efficientnet_encoder\")\n",
    "\n",
    "def inception_decoder(input_tensor, num_classes=80):\n",
    "    x = inception_block(input_tensor, 32)\n",
    "    x = inception_block(x, 64)\n",
    "    x = inception_block(x, 128)\n",
    "    cls = layers.GlobalAveragePooling2D()(x)\n",
    "    cls = layers.Dense(128, activation='relu')(cls)\n",
    "    cls = layers.BatchNormalization()(cls)\n",
    "    cls = layers.Dropout(0.5)(cls)\n",
    "    class_output = layers.Dense(num_classes, activation='softmax', name=\"class_output\")(cls)\n",
    "    bbox = layers.Conv2D(64, (3, 3), padding='same', activation='relu')(x)\n",
    "    bbox = layers.GlobalAveragePooling2D()(bbox)\n",
    "    bbox_output = layers.Dense(4, activation='sigmoid', name=\"bbox_output\")(bbox)\n",
    "\n",
    "    return models.Model(input_tensor, [class_output, bbox_output], name=\"inception_decoder\")\n",
    "\n",
    "def custom_detection_model(input_shape=(256, 256, 3), num_classes=80):\n",
    "    encoder = efficientnet_encoder(input_shape)\n",
    "    image_input = encoder.input\n",
    "    x = encoder.output\n",
    "    x = layers.GlobalAveragePooling2D()(x)\n",
    "    x = layers.Dense(128, activation='relu')(x)\n",
    "    x = layers.Reshape((1, 1, 128))(x)\n",
    "    x = layers.Conv2D(128, (1, 1), activation='relu')(x)\n",
    "    x = layers.BatchNormalization()(x)\n",
    "    decoder_model = inception_decoder(input_tensor=x, num_classes=num_classes)\n",
    "\n",
    "    model = models.Model(inputs=image_input, outputs={\n",
    "        \"class_output\": decoder_model.get_layer(\"class_output\").output,\n",
    "        \"bbox_output\": decoder_model.get_layer(\"bbox_output\").output\n",
    "    })\n",
    "\n",
    "    model.compile(\n",
    "        optimizer=tf.keras.optimizers.Adam(1e-4),\n",
    "        loss={\n",
    "            \"class_output\": \"categorical_crossentropy\",\n",
    "            \"bbox_output\": Huber(delta=1.0)\n",
    "        },\n",
    "        metrics={\n",
    "            \"class_output\": \"accuracy\",\n",
    "            \"bbox_output\": Huber(delta=1.0)\n",
    "        }\n",
    "    )\n",
    "    return model\n",
    "\n",
    "model = custom_detection_model()"
   ]
  },
  {
   "cell_type": "markdown",
   "metadata": {},
   "source": [
    "Checkpoints"
   ]
  },
  {
   "cell_type": "code",
   "execution_count": 7,
   "metadata": {},
   "outputs": [],
   "source": [
    "checkpoint = tf.keras.callbacks.ModelCheckpoint(\n",
    "    filepath = paths[\"Trained_model\"],\n",
    "    monitor = 'bbox_output_huber_loss',\n",
    "    save_best_only = True,\n",
    "    save_weights_only = False,\n",
    "    mode = 'min',\n",
    "    verbose = 1\n",
    ")"
   ]
  },
  {
   "cell_type": "markdown",
   "metadata": {},
   "source": [
    "Model training "
   ]
  },
  {
   "cell_type": "code",
   "execution_count": 8,
   "metadata": {},
   "outputs": [
    {
     "name": "stdout",
     "output_type": "stream",
     "text": [
      "Epoch 1/5\n"
     ]
    },
    {
     "name": "stderr",
     "output_type": "stream",
     "text": [
      "I0000 00:00:1745102166.534764  488284 service.cc:146] XLA service 0x7caebc046af0 initialized for platform CUDA (this does not guarantee that XLA will be used). Devices:\n",
      "I0000 00:00:1745102166.534801  488284 service.cc:154]   StreamExecutor device (0): NVIDIA GeForce RTX 3060 Laptop GPU, Compute Capability 8.6\n",
      "2025-04-20 04:06:06.813926: I tensorflow/compiler/mlir/tensorflow/utils/dump_mlir_util.cc:268] disabling MLIR crash reproducer, set env var `MLIR_CRASH_REPRODUCER_DIRECTORY` to enable.\n",
      "2025-04-20 04:06:07.969770: I external/local_xla/xla/stream_executor/cuda/cuda_dnn.cc:531] Loaded cuDNN version 90101\n"
     ]
    },
    {
     "name": "stdout",
     "output_type": "stream",
     "text": [
      "\u001b[1m    4/29317\u001b[0m \u001b[37m━━━━━━━━━━━━━━━━━━━━\u001b[0m \u001b[1m20:47\u001b[0m 43ms/step - bbox_output_huber_loss: 103.4196 - bbox_output_loss: 103.4196 - class_output_accuracy: 0.0000e+00 - class_output_loss: 5.6055 - loss: 109.0250"
     ]
    },
    {
     "name": "stderr",
     "output_type": "stream",
     "text": [
      "I0000 00:00:1745102183.513272  488284 device_compiler.h:188] Compiled cluster using XLA!  This line is logged at most once for the lifetime of the process.\n"
     ]
    },
    {
     "name": "stdout",
     "output_type": "stream",
     "text": [
      "\u001b[1m29317/29317\u001b[0m \u001b[32m━━━━━━━━━━━━━━━━━━━━\u001b[0m\u001b[37m\u001b[0m \u001b[1m0s\u001b[0m 34ms/step - bbox_output_huber_loss: 100.6876 - bbox_output_loss: 100.6876 - class_output_accuracy: 0.1816 - class_output_loss: 3.7336 - loss: 104.4213\n",
      "Epoch 1: bbox_output_huber_loss improved from inf to 100.67818, saving model to /home/utkarsh/Desktop/Sem-2/Deep Learning/2024PGCSDS14_Utkarsh Saxena_DeepLearning/DLProject/best_model_bbox.keras\n",
      "\u001b[1m29317/29317\u001b[0m \u001b[32m━━━━━━━━━━━━━━━━━━━━\u001b[0m\u001b[37m\u001b[0m \u001b[1m1041s\u001b[0m 35ms/step - bbox_output_huber_loss: 100.6876 - bbox_output_loss: 100.6876 - class_output_accuracy: 0.1816 - class_output_loss: 3.7336 - loss: 104.4213 - val_bbox_output_huber_loss: 100.4362 - val_bbox_output_loss: 100.4362 - val_class_output_accuracy: 0.2490 - val_class_output_loss: 3.4081 - val_loss: 103.8442\n",
      "Epoch 2/5\n",
      "\u001b[1m29316/29317\u001b[0m \u001b[32m━━━━━━━━━━━━━━━━━━━\u001b[0m\u001b[37m━\u001b[0m \u001b[1m0s\u001b[0m 34ms/step - bbox_output_huber_loss: 100.7825 - bbox_output_loss: 100.7825 - class_output_accuracy: 0.3188 - class_output_loss: 2.8241 - loss: 103.6065\n",
      "Epoch 2: bbox_output_huber_loss improved from 100.67818 to 100.67365, saving model to /home/utkarsh/Desktop/Sem-2/Deep Learning/2024PGCSDS14_Utkarsh Saxena_DeepLearning/DLProject/best_model_bbox.keras\n",
      "\u001b[1m29317/29317\u001b[0m \u001b[32m━━━━━━━━━━━━━━━━━━━━\u001b[0m\u001b[37m\u001b[0m \u001b[1m1006s\u001b[0m 34ms/step - bbox_output_huber_loss: 100.7825 - bbox_output_loss: 100.7825 - class_output_accuracy: 0.3188 - class_output_loss: 2.8241 - loss: 103.6065 - val_bbox_output_huber_loss: 100.4338 - val_bbox_output_loss: 100.4338 - val_class_output_accuracy: 0.2977 - val_class_output_loss: 2.7755 - val_loss: 103.2093\n",
      "Epoch 3/5\n",
      "\u001b[1m29317/29317\u001b[0m \u001b[32m━━━━━━━━━━━━━━━━━━━━\u001b[0m\u001b[37m\u001b[0m \u001b[1m0s\u001b[0m 34ms/step - bbox_output_huber_loss: 100.6802 - bbox_output_loss: 100.6802 - class_output_accuracy: 0.3256 - class_output_loss: 2.6838 - loss: 103.3643\n",
      "Epoch 3: bbox_output_huber_loss improved from 100.67365 to 100.67319, saving model to /home/utkarsh/Desktop/Sem-2/Deep Learning/2024PGCSDS14_Utkarsh Saxena_DeepLearning/DLProject/best_model_bbox.keras\n",
      "\u001b[1m29317/29317\u001b[0m \u001b[32m━━━━━━━━━━━━━━━━━━━━\u001b[0m\u001b[37m\u001b[0m \u001b[1m1010s\u001b[0m 34ms/step - bbox_output_huber_loss: 100.6802 - bbox_output_loss: 100.6802 - class_output_accuracy: 0.3256 - class_output_loss: 2.6838 - loss: 103.3643 - val_bbox_output_huber_loss: 100.4334 - val_bbox_output_loss: 100.4334 - val_class_output_accuracy: 0.2492 - val_class_output_loss: 4.1531 - val_loss: 104.5864\n",
      "Epoch 4/5\n",
      "\u001b[1m29316/29317\u001b[0m \u001b[32m━━━━━━━━━━━━━━━━━━━\u001b[0m\u001b[37m━\u001b[0m \u001b[1m0s\u001b[0m 34ms/step - bbox_output_huber_loss: 100.5474 - bbox_output_loss: 100.5474 - class_output_accuracy: 0.3225 - class_output_loss: 2.6892 - loss: 103.2366\n",
      "Epoch 4: bbox_output_huber_loss improved from 100.67319 to 100.67289, saving model to /home/utkarsh/Desktop/Sem-2/Deep Learning/2024PGCSDS14_Utkarsh Saxena_DeepLearning/DLProject/best_model_bbox.keras\n",
      "\u001b[1m29317/29317\u001b[0m \u001b[32m━━━━━━━━━━━━━━━━━━━━\u001b[0m\u001b[37m\u001b[0m \u001b[1m1012s\u001b[0m 34ms/step - bbox_output_huber_loss: 100.5474 - bbox_output_loss: 100.5474 - class_output_accuracy: 0.3225 - class_output_loss: 2.6892 - loss: 103.2366 - val_bbox_output_huber_loss: 100.4334 - val_bbox_output_loss: 100.4334 - val_class_output_accuracy: 0.2888 - val_class_output_loss: 3.0255 - val_loss: 103.4589\n",
      "Epoch 5/5\n",
      "\u001b[1m29317/29317\u001b[0m \u001b[32m━━━━━━━━━━━━━━━━━━━━\u001b[0m\u001b[37m\u001b[0m \u001b[1m0s\u001b[0m 34ms/step - bbox_output_huber_loss: 100.7226 - bbox_output_loss: 100.7226 - class_output_accuracy: 0.3243 - class_output_loss: 2.7167 - loss: 103.4393\n",
      "Epoch 5: bbox_output_huber_loss did not improve from 100.67289\n",
      "\u001b[1m29317/29317\u001b[0m \u001b[32m━━━━━━━━━━━━━━━━━━━━\u001b[0m\u001b[37m\u001b[0m \u001b[1m1012s\u001b[0m 34ms/step - bbox_output_huber_loss: 100.7226 - bbox_output_loss: 100.7226 - class_output_accuracy: 0.3243 - class_output_loss: 2.7167 - loss: 103.4393 - val_bbox_output_huber_loss: 100.4334 - val_bbox_output_loss: 100.4334 - val_class_output_accuracy: 0.3120 - val_class_output_loss: 2.8377 - val_loss: 103.2711\n"
     ]
    },
    {
     "data": {
      "text/plain": [
       "<keras.src.callbacks.history.History at 0x7cafccef10d0>"
      ]
     },
     "execution_count": 8,
     "metadata": {},
     "output_type": "execute_result"
    }
   ],
   "source": [
    "model.fit(\n",
    "    train_dataset,\n",
    "    epochs = 5,\n",
    "    validation_data = val_dataset,\n",
    "    callbacks = [checkpoint]\n",
    ")"
   ]
  }
 ],
 "metadata": {
  "kernelspec": {
   "display_name": "tensorflow_testing",
   "language": "python",
   "name": "python3"
  },
  "language_info": {
   "codemirror_mode": {
    "name": "ipython",
    "version": 3
   },
   "file_extension": ".py",
   "mimetype": "text/x-python",
   "name": "python",
   "nbconvert_exporter": "python",
   "pygments_lexer": "ipython3",
   "version": "3.11.11"
  }
 },
 "nbformat": 4,
 "nbformat_minor": 2
}
