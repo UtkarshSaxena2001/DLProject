{
 "cells": [
  {
   "cell_type": "markdown",
   "id": "fbf94a92",
   "metadata": {},
   "source": [
    "loading libraries"
   ]
  },
  {
   "cell_type": "code",
   "execution_count": null,
   "id": "547c57f6",
   "metadata": {},
   "outputs": [],
   "source": [
    "import numpy as np\n",
    "import json as js\n",
    "from keras import models\n",
    "import cv2\n",
    "from os import listdir as ld\n",
    "from os import path\n",
    "from tqdm import tqdm"
   ]
  },
  {
   "cell_type": "markdown",
   "id": "80343e60",
   "metadata": {},
   "source": [
    "Loading paths"
   ]
  },
  {
   "cell_type": "code",
   "execution_count": 7,
   "id": "29ec1b49",
   "metadata": {},
   "outputs": [],
   "source": [
    "with open(\"config_CNN.json\",'r') as file:\n",
    "    paths = js.load(file)"
   ]
  },
  {
   "cell_type": "markdown",
   "id": "1b819e99",
   "metadata": {},
   "source": [
    "loading model"
   ]
  },
  {
   "cell_type": "code",
   "execution_count": 8,
   "id": "64bde684",
   "metadata": {},
   "outputs": [],
   "source": [
    "model = models.load_model(paths[\"Trained_model\"])"
   ]
  },
  {
   "cell_type": "markdown",
   "id": "33acf2a7",
   "metadata": {},
   "source": [
    "Evaluation on validation data"
   ]
  },
  {
   "cell_type": "code",
   "execution_count": 22,
   "id": "9e14d340",
   "metadata": {},
   "outputs": [],
   "source": [
    "def compute_iou(box1, box2):\n",
    "    # Calculate intersection area\n",
    "    intersection_width = min(box1.right, box2.right) - max(box1.left, box2.left)\n",
    "    intersection_height = min(box1.bottom, box2.bottom) - max(box1.top, box2.top)\n",
    "    \n",
    "    if intersection_width <= 0 or intersection_height <= 0:\n",
    "        return 0\n",
    "    \n",
    "    intersection_area = intersection_width * intersection_height\n",
    "\n",
    "    # Calculate union area\n",
    "    box1_area = (box1.right - box1.left) * (box1.bottom - box1.top)\n",
    "    box2_area = (box2.right - box2.left) * (box2.bottom - box2.top)\n",
    "    \n",
    "    union_area = box1_area + box2_area - intersection_area\n",
    "\n",
    "    # Calculate IoU\n",
    "    iou = intersection_area / union_area\n",
    "    return iou\n",
    "\n",
    "TP, FP, FN = 0, 0, 0"
   ]
  },
  {
   "cell_type": "code",
   "execution_count": null,
   "id": "acf0eab9",
   "metadata": {},
   "outputs": [
    {
     "name": "stderr",
     "output_type": "stream",
     "text": [
      "100%|██████████| 5000/5000 [03:50<00:00, 21.68it/s]\n"
     ]
    }
   ],
   "source": [
    "val_data_path = paths[\"Validation_resized\"]\n",
    "\n",
    "with open(paths[\"Preprocessed_Validation_json\"],'r') as file:\n",
    "    val_json = js.load(file)\n",
    "\n",
    "for fname in tqdm(ld(val_data_path)):\n",
    "    if fname.endswith((\".jpg\", \".png\", \".jpeg\")):\n",
    "        img_path = path.join(val_data_path, fname)\n",
    "        txt_path = img_path.replace(\".jpg\", \".txt\").replace(\".png\", \".txt\")  \n",
    "        img = cv2.imread(img_path)\n",
    "        img_input = np.expand_dims(img, axis=0)  \n",
    "        preds = model.predict(img_input, verbose = 0)  \n",
    "        \n",
    "        if path.exists(txt_path):\n",
    "            with open(txt_path, \"r\") as f:\n",
    "                gt_boxes = [list(map(float, line.strip().split()[1:])) for line in f]\n",
    "        else:\n",
    "            gt_boxes = []\n",
    "\n",
    "        matched = set()\n",
    "\n",
    "        for pred_box in preds:\n",
    "            iou_scores = [compute_iou(pred_box[1:], gt) for gt in gt_boxes]\n",
    "            max_iou = max(iou_scores) if iou_scores else 0\n",
    "\n",
    "            if max_iou > 0.5 and iou_scores.index(max_iou) not in matched:\n",
    "                TP += 1\n",
    "                matched.add(iou_scores.index(max_iou))\n",
    "                \n",
    "            else:\n",
    "                FP += 1\n",
    "\n",
    "        FN += len(gt_boxes) - len(matched)"
   ]
  },
  {
   "cell_type": "code",
   "execution_count": 24,
   "id": "d02f5957",
   "metadata": {},
   "outputs": [
    {
     "name": "stdout",
     "output_type": "stream",
     "text": [
      "\n",
      "Precision: 0.0000\n",
      "Recall:    0.0000\n",
      "F1 Score:  0.0000\n"
     ]
    }
   ],
   "source": [
    "# Compute metrics\n",
    "precision = TP / (TP + FP + 1e-6)\n",
    "recall = TP / (TP + FN + 1e-6)\n",
    "f1_score = 2 * precision * recall / (precision + recall + 1e-6)\n",
    "\n",
    "print(f\"\\nPrecision: {precision:.4f}\")\n",
    "print(f\"Recall:    {recall:.4f}\")\n",
    "print(f\"F1 Score:  {f1_score:.4f}\")"
   ]
  }
 ],
 "metadata": {
  "kernelspec": {
   "display_name": "tensorflow_testing",
   "language": "python",
   "name": "python3"
  },
  "language_info": {
   "codemirror_mode": {
    "name": "ipython",
    "version": 3
   },
   "file_extension": ".py",
   "mimetype": "text/x-python",
   "name": "python",
   "nbconvert_exporter": "python",
   "pygments_lexer": "ipython3",
   "version": "3.11.11"
  }
 },
 "nbformat": 4,
 "nbformat_minor": 5
}
