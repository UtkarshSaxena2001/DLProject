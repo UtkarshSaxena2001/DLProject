{
 "cells": [
  {
   "cell_type": "markdown",
   "id": "fbf94a92",
   "metadata": {},
   "source": [
    "loading libraries"
   ]
  },
  {
   "cell_type": "code",
   "execution_count": 13,
   "id": "547c57f6",
   "metadata": {},
   "outputs": [],
   "source": [
    "import tensorflow as tf\n",
    "import json as js\n",
    "from keras import models\n",
    "import cv2\n",
    "from os import listdir as ld\n",
    "from os import path\n",
    "from tqdm import tqdm"
   ]
  },
  {
   "cell_type": "markdown",
   "id": "80343e60",
   "metadata": {},
   "source": [
    "Loading paths"
   ]
  },
  {
   "cell_type": "code",
   "execution_count": 7,
   "id": "29ec1b49",
   "metadata": {},
   "outputs": [],
   "source": [
    "with open(\"config_CNN.json\",'r') as file:\n",
    "    paths = js.load(file)"
   ]
  },
  {
   "cell_type": "markdown",
   "id": "1b819e99",
   "metadata": {},
   "source": [
    "loading model"
   ]
  },
  {
   "cell_type": "code",
   "execution_count": 8,
   "id": "64bde684",
   "metadata": {},
   "outputs": [],
   "source": [
    "model = models.load_model(paths[\"Trained_model\"])"
   ]
  },
  {
   "cell_type": "markdown",
   "id": "33acf2a7",
   "metadata": {},
   "source": [
    "Evaluation on validation data"
   ]
  },
  {
   "cell_type": "code",
   "execution_count": null,
   "id": "e0101dc5",
   "metadata": {},
   "outputs": [],
   "source": [
    "val_data_path = paths[\"Validation_resized\"]\n",
    "for i in tqdm(ld(val_data_path)):\n",
    "    path_to_img = path.join(val_data_path,i)\n",
    "    img = cv2.imread(path_to_img)"
   ]
  }
 ],
 "metadata": {
  "kernelspec": {
   "display_name": "tensorflow_testing",
   "language": "python",
   "name": "python3"
  },
  "language_info": {
   "codemirror_mode": {
    "name": "ipython",
    "version": 3
   },
   "file_extension": ".py",
   "mimetype": "text/x-python",
   "name": "python",
   "nbconvert_exporter": "python",
   "pygments_lexer": "ipython3",
   "version": "3.11.11"
  }
 },
 "nbformat": 4,
 "nbformat_minor": 5
}
