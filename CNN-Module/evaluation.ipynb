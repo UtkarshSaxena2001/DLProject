{
 "cells": [
  {
   "cell_type": "markdown",
   "id": "fbf94a92",
   "metadata": {},
   "source": [
    "loading libraries"
   ]
  },
  {
   "cell_type": "code",
   "execution_count": 57,
   "id": "547c57f6",
   "metadata": {},
   "outputs": [],
   "source": [
    "import numpy as np\n",
    "import json as js\n",
    "import tensorflow as tf\n",
    "from keras import models\n",
    "from keras.utils import register_keras_serializable #type: ignore\n",
    "import cv2\n",
    "from os import listdir as ld\n",
    "from os import path\n",
    "from tqdm import tqdm"
   ]
  },
  {
   "cell_type": "markdown",
   "id": "80343e60",
   "metadata": {},
   "source": [
    "Loading paths"
   ]
  },
  {
   "cell_type": "code",
   "execution_count": 58,
   "id": "29ec1b49",
   "metadata": {},
   "outputs": [],
   "source": [
    "with open(\"config_CNN.json\",'r') as file:\n",
    "    paths = js.load(file)"
   ]
  },
  {
   "cell_type": "markdown",
   "id": "1b819e99",
   "metadata": {},
   "source": [
    "loading model"
   ]
  },
  {
   "cell_type": "code",
   "execution_count": 59,
   "id": "32797c82",
   "metadata": {},
   "outputs": [],
   "source": [
    "def compute_iou_tf(box1, box2):\n",
    "    box1_x1 = box1[:, 0]\n",
    "    box1_y1 = box1[:, 1]\n",
    "    box1_x2 = box1[:, 0] + box1[:, 2]\n",
    "    box1_y2 = box1[:, 1] + box1[:, 3]\n",
    "    box2_x1 = box2[:, 0]\n",
    "    box2_y1 = box2[:, 1]\n",
    "    box2_x2 = box2[:, 0] + box2[:, 2]\n",
    "    box2_y2 = box2[:, 1] + box2[:, 3]\n",
    "    x1 = tf.maximum(box1_x1, box2_x1)\n",
    "    y1 = tf.maximum(box1_y1, box2_y1)\n",
    "    x2 = tf.minimum(box1_x2, box2_x2)\n",
    "    y2 = tf.minimum(box1_y2, box2_y2)\n",
    "    intersection = tf.maximum(0.0, x2 - x1) * tf.maximum(0.0, y2 - y1)\n",
    "    area1 = box1[:, 2] * box1[:, 3]\n",
    "    area2 = box2[:, 2] * box2[:, 3]\n",
    "    union = area1 + area2 - intersection\n",
    "    return tf.math.divide_no_nan(intersection, union)"
   ]
  },
  {
   "cell_type": "code",
   "execution_count": 60,
   "id": "2d2e3390",
   "metadata": {},
   "outputs": [],
   "source": [
    "@register_keras_serializable()\n",
    "class IoUMetric(tf.keras.metrics.Metric):\n",
    "    def __init__(self, name='iou_metric', **kwargs):\n",
    "        super(IoUMetric, self).__init__(name=name, **kwargs)\n",
    "        self.total_iou = self.add_weight(name='total_iou', initializer='zeros')\n",
    "        self.count = self.add_weight(name='count', initializer='zeros')\n",
    "\n",
    "    def update_state(self, y_true, y_pred, sample_weight=None):\n",
    "        y_true = tf.reshape(y_true, (-1, 4))\n",
    "        y_pred = tf.reshape(y_pred, (-1, 4))\n",
    "\n",
    "        ious = compute_iou_tf(y_true, y_pred)\n",
    "        self.total_iou.assign_add(tf.reduce_sum(ious))\n",
    "        self.count.assign_add(tf.cast(tf.size(ious), tf.float32))\n",
    "\n",
    "    def result(self):\n",
    "        return tf.math.divide_no_nan(self.total_iou, self.count)\n",
    "\n",
    "    def reset_states(self):\n",
    "        self.total_iou.assign(0.0)\n",
    "        self.count.assign(0.0)\n"
   ]
  },
  {
   "cell_type": "code",
   "execution_count": 61,
   "id": "64bde684",
   "metadata": {},
   "outputs": [],
   "source": [
    "model = models.load_model(paths[\"Trained_model\"], custom_objects={\"IoUMetric\": IoUMetric})"
   ]
  },
  {
   "cell_type": "markdown",
   "id": "33acf2a7",
   "metadata": {},
   "source": [
    "Evaluation on validation data"
   ]
  },
  {
   "cell_type": "code",
   "execution_count": 62,
   "id": "9e14d340",
   "metadata": {},
   "outputs": [],
   "source": [
    "def compute_iou(box1, box2):\n",
    "    x1_min = box1[0]\n",
    "    y1_min = box1[1]\n",
    "    x1_max = box1[0] + box1[2]\n",
    "    y1_max = box1[1] + box1[3]\n",
    "    x2_min = box2[0]\n",
    "    y2_min = box2[1]\n",
    "    x2_max = box2[0] + box2[2]\n",
    "    y2_max = box2[1] + box2[3]\n",
    "    inter_xmin = max(x1_min, x2_min)\n",
    "    inter_ymin = max(y1_min, y2_min)\n",
    "    inter_xmax = min(x1_max, x2_max)\n",
    "    inter_ymax = min(y1_max, y2_max)\n",
    "    inter_area = max(0, inter_xmax - inter_xmin) * max(0, inter_ymax - inter_ymin)\n",
    "    box1_area = (x1_max - x1_min) * (y1_max - y1_min)\n",
    "    box2_area = (x2_max - x2_min) * (y2_max - y2_min)\n",
    "    union_area = box1_area + box2_area - inter_area\n",
    "    return inter_area / union_area if union_area > 0 else 0\n",
    "\n",
    "TP, FP, FN = 0, 0, 0\n",
    "iou_threshold = 0.000001"
   ]
  },
  {
   "cell_type": "code",
   "execution_count": 63,
   "id": "acf0eab9",
   "metadata": {},
   "outputs": [
    {
     "name": "stderr",
     "output_type": "stream",
     "text": [
      "100%|██████████| 5000/5000 [05:46<00:00, 14.43it/s]\n"
     ]
    }
   ],
   "source": [
    "val_data_path = paths[\"Validation_resized\"]\n",
    "\n",
    "with open(paths[\"Preprocessed_Validation_json\"],'r') as file:\n",
    "    val_json = js.load(file)\n",
    "\n",
    "gt_boxes_dict = {item[\"img_id\"]: item[\"bbox\"] for item in val_json}\n",
    "\n",
    "for fname in tqdm(ld(val_data_path)):\n",
    "    if fname.endswith((\".jpg\", \".png\", \".jpeg\")):\n",
    "        if fname not in gt_boxes_dict:\n",
    "            continue\n",
    "\n",
    "        img_path = path.join(val_data_path, fname)\n",
    "        img = cv2.imread(img_path)\n",
    "        img_input = np.expand_dims(img, axis=0)  \n",
    "        pred = model.predict(img_input, verbose=0)  \n",
    "        gt_box = gt_boxes_dict[fname] \n",
    "        iou = compute_iou(pred['bbox_output'][0], gt_box)\n",
    "\n",
    "        if iou >= iou_threshold:\n",
    "            TP += 1\n",
    "            \n",
    "        else:\n",
    "            FP += 1\n",
    "            FN += 1"
   ]
  },
  {
   "cell_type": "code",
   "execution_count": 64,
   "id": "d02f5957",
   "metadata": {},
   "outputs": [
    {
     "name": "stdout",
     "output_type": "stream",
     "text": [
      "\n",
      "[Evaluation Results]\n",
      "True Positives : 290\n",
      "False Positives: 4662\n",
      "False Negatives: 4662\n",
      "Precision      : 0.0586\n",
      "Recall         : 0.0586\n",
      "F1 Score       : 0.0586\n"
     ]
    }
   ],
   "source": [
    "precision = TP / (TP + FP + 1e-6)\n",
    "recall = TP / (TP + FN + 1e-6)\n",
    "f1_score = 2 * precision * recall / (precision + recall + 1e-6)\n",
    "print(f\"\\n[Evaluation Results]\")\n",
    "print(f\"True Positives : {TP}\")\n",
    "print(f\"False Positives: {FP}\")\n",
    "print(f\"False Negatives: {FN}\")\n",
    "print(f\"Precision      : {precision:.4f}\")\n",
    "print(f\"Recall         : {recall:.4f}\")\n",
    "print(f\"F1 Score       : {f1_score:.4f}\")"
   ]
  }
 ],
 "metadata": {
  "kernelspec": {
   "display_name": "tensorflow_testing",
   "language": "python",
   "name": "python3"
  },
  "language_info": {
   "codemirror_mode": {
    "name": "ipython",
    "version": 3
   },
   "file_extension": ".py",
   "mimetype": "text/x-python",
   "name": "python",
   "nbconvert_exporter": "python",
   "pygments_lexer": "ipython3",
   "version": "3.11.11"
  }
 },
 "nbformat": 4,
 "nbformat_minor": 5
}
