{
 "cells": [
  {
   "cell_type": "markdown",
   "id": "4e5f0a1b",
   "metadata": {},
   "source": [
    "Imports"
   ]
  },
  {
   "cell_type": "code",
   "execution_count": null,
   "id": "4b71572e",
   "metadata": {},
   "outputs": [],
   "source": [
    "import os\n",
    "from PIL import Image\n",
    "from tqdm import tqdm\n",
    "import json as js\n",
    "import cv2\n",
    "import matplotlib.pyplot as plt"
   ]
  },
  {
   "cell_type": "markdown",
   "id": "2a336613",
   "metadata": {},
   "source": [
    "Involving paths"
   ]
  },
  {
   "cell_type": "code",
   "execution_count": null,
   "id": "3928f7df",
   "metadata": {},
   "outputs": [],
   "source": [
    "with open(\"config_CNN.json\",'r') as file:\n",
    "    paths = js.load(file)"
   ]
  },
  {
   "cell_type": "markdown",
   "id": "b237067b",
   "metadata": {},
   "source": [
    "Image Resizing"
   ]
  },
  {
   "cell_type": "code",
   "execution_count": null,
   "id": "6745a35d",
   "metadata": {},
   "outputs": [],
   "source": [
    "def resize_images(input_folder, output_folder, size=(256, 256)):\n",
    "    if not os.path.exists(output_folder):\n",
    "        os.makedirs(output_folder)\n",
    "    \n",
    "    for filename in tqdm(os.listdir(input_folder)):\n",
    "        input_path = os.path.join(input_folder, filename)\n",
    "        output_path = os.path.join(output_folder, filename)\n",
    "        \n",
    "        try:\n",
    "            with Image.open(input_path) as img:\n",
    "                img = img.resize(size, Image.LANCZOS)\n",
    "                img.save(output_path)\n",
    "        except Exception as e:\n",
    "            print(f\"Skipping {filename}: {e}\")\n",
    "\n",
    "\n",
    "input_folder_train = paths[\"Train_folder\"] \n",
    "output_folder_train = paths[\"Train_resized\"]\n",
    "input_folder_Val = paths[\"Validation_folder\"] \n",
    "output_folder_Val = paths[\"Validation_resized\"]\n",
    "\n",
    "if os.path.exists(input_folder_train):\n",
    "    resize_images(input_folder_train, output_folder_train)\n",
    "else: \n",
    "    print(\"Wrong path\")\n",
    "\n",
    "if os.path.exists(input_folder_Val):\n",
    "    resize_images(input_folder_Val, output_folder_Val)\n",
    "else: \n",
    "    print(\"Wrong path\")"
   ]
  },
  {
   "cell_type": "markdown",
   "id": "fdbcfb36",
   "metadata": {},
   "source": [
    "Counter"
   ]
  },
  {
   "cell_type": "code",
   "execution_count": null,
   "id": "e64f0bd1",
   "metadata": {},
   "outputs": [],
   "source": [
    "train_json_path = paths[\"Preprocessed_Train_json\"]\n",
    "val_json_path = paths[\"Preprocessed_Validation_json\"]\n",
    "Train_Label_Frequency = paths[\"Train_Label_Frequency\"]\n",
    "Validation_Label_Frequency = paths[\"Validation_Label_Frequency\"]\n",
    "\n",
    "with open(train_json_path, \"r\") as file:\n",
    "    train_json = js.load(file)\n",
    "    \n",
    "with open(val_json_path, \"r\") as file:\n",
    "    val_json = js.load(file)\n",
    "    \n",
    "train_label_freq = {}\n",
    "val_label_freq = {}\n",
    "\n",
    "for ann in train_json:\n",
    "    if ann[\"label\"] not in train_label_freq.keys():\n",
    "        train_label_freq[ann[\"label\"]] = 1\n",
    "    else:\n",
    "        train_label_freq[ann[\"label\"]] += 1\n",
    "        \n",
    "print(f\"Unique labels in Train: {len(train_label_freq.keys())}\")\n",
    "with open(Train_Label_Frequency, \"w\") as f:\n",
    "    js.dump(train_label_freq, f)\n",
    "    \n",
    "for ann in val_json:\n",
    "    if ann[\"label\"] not in val_label_freq.keys():\n",
    "        val_label_freq[ann[\"label\"]] = 1\n",
    "    else:\n",
    "        val_label_freq[ann[\"label\"]] += 1\n",
    "        \n",
    "print(f\"Unique labels in Validation: {len(val_label_freq.keys())}\")\n",
    "with open(Validation_Label_Frequency, \"w\") as f:\n",
    "    js.dump(val_label_freq, f)"
   ]
  },
  {
   "cell_type": "markdown",
   "id": "1fa7877e",
   "metadata": {},
   "source": [
    "Preprocessing util train"
   ]
  },
  {
   "cell_type": "code",
   "execution_count": null,
   "id": "6b4ef633",
   "metadata": {},
   "outputs": [],
   "source": [
    "def get_img_name(id:int):\n",
    "    for i in data['images']:\n",
    "        if i[\"id\"]==id:\n",
    "            return i[\"file_name\"]\n",
    "\n",
    "def get_category_name(id:int):\n",
    "    for i in data['categories']:\n",
    "        if i['id']== id:\n",
    "            return i[\"name\"]\n",
    "        \n",
    "def get_image_size(id:int):\n",
    "    for i in data['images']:\n",
    "        if i[\"id\"]==id:\n",
    "            return (i[\"width\"], i[\"height\"])\n",
    "        \n",
    "def get_largest_bounding_box(id:int):\n",
    "    area_list,bbox_list,cat_list = [0],[0],[0]\n",
    "    \n",
    "    for i in data['annotations']:\n",
    "        if i['image_id']==id:\n",
    "            area_list.append(i[\"area\"])\n",
    "            bbox_list.append(i[\"bbox\"])\n",
    "            cat_list.append(i[\"category_id\"])\n",
    "            \n",
    "        else:\n",
    "            continue\n",
    "        \n",
    "    if len(area_list) != 0: \n",
    "        max_area = max(area_list)\n",
    "        bbox = bbox_list[area_list.index(max_area)]\n",
    "        cat = cat_list[area_list.index(max_area)]\n",
    "        return bbox,cat\n",
    "\n",
    "with open(\"config_CNN.json\",'r') as file:\n",
    "    paths = js.load(file)\n",
    "\n",
    "with open(paths[\"Max_Area_Train_Json\"], \"r\") as file:\n",
    "    data = js.load(file)  \n",
    "\n",
    "l = []\n",
    "for i in tqdm(data['images']):\n",
    "    img = {}\n",
    "    img[\"img_id\"] = i[\"file_name\"]\n",
    "    img['size'] = get_image_size(i[\"id\"])\n",
    "    img[\"bbox\"],img[\"category_id\"] = get_largest_bounding_box(i[\"id\"])\n",
    "    img[\"label\"] = get_category_name(img[\"category_id\"])\n",
    "    if img[\"bbox\"] != 0:\n",
    "        l.append(img)\n",
    "\n",
    "with open(paths[\"Preprocessed_Train_json\"],'w+') as file:\n",
    "    js.dump(l, file, indent=4)"
   ]
  },
  {
   "cell_type": "markdown",
   "id": "8ec32a40",
   "metadata": {},
   "source": [
    "Preprocessing util Validation"
   ]
  },
  {
   "cell_type": "code",
   "execution_count": null,
   "id": "cece116a",
   "metadata": {},
   "outputs": [],
   "source": [
    "def get_img_name(id:int):\n",
    "    for i in data['images']:\n",
    "        if i[\"id\"]==id:\n",
    "            return i[\"file_name\"]\n",
    "\n",
    "def get_category_name(id:int):\n",
    "    for i in data['categories']:\n",
    "        if i['id']== id:\n",
    "            return i[\"name\"]\n",
    "        \n",
    "def get_image_size(id:int):\n",
    "    for i in data['images']:\n",
    "        if i[\"id\"]==id:\n",
    "            return (i[\"width\"], i[\"height\"])\n",
    "        \n",
    "def get_largest_bounding_box(id:int):\n",
    "    area_list,bbox_list,cat_list = [0],[0],[0]\n",
    "    \n",
    "    for i in data['annotations']:\n",
    "        if i['image_id']==id:\n",
    "            area_list.append(i[\"area\"])\n",
    "            bbox_list.append(i[\"bbox\"])\n",
    "            cat_list.append(i[\"category_id\"])\n",
    "            \n",
    "        else:\n",
    "            continue\n",
    "        \n",
    "    if len(area_list) != 0: \n",
    "        max_area = max(area_list)\n",
    "        bbox = bbox_list[area_list.index(max_area)]\n",
    "        cat = cat_list[area_list.index(max_area)]\n",
    "        return bbox,cat\n",
    "\n",
    "with open(\"config_CNN.json\",'r') as file:\n",
    "    paths = js.load(file)\n",
    "\n",
    "with open(paths[\"Max_Area_Val_Json\"], \"r\") as file:\n",
    "    data = js.load(file)  \n",
    "\n",
    "l = []\n",
    "for i in data['images']:\n",
    "    img = {}\n",
    "    img[\"img_id\"] = i[\"file_name\"]\n",
    "    img['size'] = get_image_size(i[\"id\"])\n",
    "    img[\"bbox\"],img[\"category_id\"] = get_largest_bounding_box(i[\"id\"])\n",
    "    img[\"label\"] = get_category_name(img[\"category_id\"])\n",
    "    if img[\"bbox\"] != 0:\n",
    "        l.append(img)\n",
    "\n",
    "with open(paths[\"Preprocessed_Validation_json\"],'w+') as file:\n",
    "    js.dump(l, file, indent=4)"
   ]
  },
  {
   "cell_type": "markdown",
   "id": "40fc5422",
   "metadata": {},
   "source": [
    "Visualization"
   ]
  },
  {
   "cell_type": "code",
   "execution_count": null,
   "id": "96f34524",
   "metadata": {},
   "outputs": [],
   "source": [
    "json_path = paths[\"Preprocessed_Train_json\"]\n",
    "train_path = paths[\"Train_resized\"]\n",
    "\n",
    "with open(json_path, 'r') as f:\n",
    "    coco_data = js.load(f)\n",
    "\n",
    "for img in coco_data:\n",
    "    img_path = os.path.join(train_path, img[\"img_id\"])\n",
    "    if not os.path.exists(img_path):\n",
    "        print(f\"Image not found: {img_path}\")\n",
    "        continue\n",
    "    \n",
    "    image = cv2.imread(img_path)\n",
    "    image = cv2.cvtColor(image, cv2.COLOR_BGR2RGB)\n",
    "    \n",
    "    x, y, w, h = img[\"bbox\"]\n",
    "    cv2.rectangle(image, (int(x), int(y)), (int(x + w), int(y + h)), (255, 0, 0), 2)\n",
    "\n",
    "    plt.figure(figsize=(8, 8))\n",
    "    plt.imshow(image)\n",
    "    plt.axis(\"off\")\n",
    "    plt.show()"
   ]
  }
 ],
 "metadata": {
  "kernelspec": {
   "display_name": "base",
   "language": "python",
   "name": "python3"
  },
  "language_info": {
   "name": "python",
   "version": "3.12.8"
  }
 },
 "nbformat": 4,
 "nbformat_minor": 5
}
