{
 "cells": [
  {
   "cell_type": "markdown",
   "metadata": {},
   "source": [
    "Importing Libraries"
   ]
  },
  {
   "cell_type": "code",
   "execution_count": 1,
   "metadata": {},
   "outputs": [],
   "source": [
    "import json as js\n",
    "from tqdm import tqdm"
   ]
  },
  {
   "cell_type": "markdown",
   "metadata": {},
   "source": [
    "Defining Paths"
   ]
  },
  {
   "cell_type": "code",
   "execution_count": 3,
   "metadata": {},
   "outputs": [],
   "source": [
    "Train_json = \"data/Max_Area_BB_train.json\"\n",
    "Val_json = \"data/Max_Area_BB_validation.json\"\n",
    "Preprocess_train = \"data/Preprocessed_train.json\"\n",
    "Preprocess_val = \"data/Preprocessed_validation.json\""
   ]
  },
  {
   "cell_type": "markdown",
   "metadata": {},
   "source": [
    "loading the json for training "
   ]
  },
  {
   "cell_type": "code",
   "execution_count": 6,
   "metadata": {},
   "outputs": [],
   "source": [
    "with open(Train_json,'r') as file:\n",
    "    train_data = js.load(file)\n",
    "\n",
    "for i in train_data:\n",
    "    x_scale = 256/i[\"size\"][0]\n",
    "    y_scale = 256/i[\"size\"][1]\n",
    "    x = i[\"bbox\"][0]*x_scale\n",
    "    y = i[\"bbox\"][1]*y_scale\n",
    "    w = i[\"bbox\"][2]*x_scale\n",
    "    h = i[\"bbox\"][3]*y_scale\n",
    "    i[\"bbox\"] = [x,y,w,h]\n",
    "    i[\"size\"] = [256,256]"
   ]
  },
  {
   "cell_type": "code",
   "execution_count": 11,
   "metadata": {},
   "outputs": [],
   "source": [
    "with open(Preprocess_train,'w') as file:\n",
    "    js.dump(train_data,file)"
   ]
  },
  {
   "cell_type": "code",
   "execution_count": 8,
   "metadata": {},
   "outputs": [],
   "source": [
    "with open(Val_json,'r') as file:\n",
    "    val_data = js.load(file)\n",
    "\n",
    "for i in val_data:\n",
    "    x_scale = 256/i[\"size\"][0]\n",
    "    y_scale = 256/i[\"size\"][1]\n",
    "    x = i[\"bbox\"][0]*x_scale\n",
    "    y = i[\"bbox\"][1]*y_scale\n",
    "    w = i[\"bbox\"][2]*x_scale\n",
    "    h = i[\"bbox\"][3]*y_scale\n",
    "    i[\"bbox\"] = [x,y,w,h]\n",
    "    i[\"size\"] = [256,256]"
   ]
  },
  {
   "cell_type": "code",
   "execution_count": 12,
   "metadata": {},
   "outputs": [],
   "source": [
    "with open(Preprocess_val,'w') as file:\n",
    "    js.dump(val_data,file)"
   ]
  }
 ],
 "metadata": {
  "kernelspec": {
   "display_name": "tensorflow_testing",
   "language": "python",
   "name": "python3"
  },
  "language_info": {
   "codemirror_mode": {
    "name": "ipython",
    "version": 3
   },
   "file_extension": ".py",
   "mimetype": "text/x-python",
   "name": "python",
   "nbconvert_exporter": "python",
   "pygments_lexer": "ipython3",
   "version": "3.11.11"
  }
 },
 "nbformat": 4,
 "nbformat_minor": 2
}
