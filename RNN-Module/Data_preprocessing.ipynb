{
 "cells": [
  {
   "cell_type": "code",
   "execution_count": null,
   "id": "4343d4df",
   "metadata": {},
   "outputs": [],
   "source": [
    "import json\n",
    "import string\n",
    "from keras.preprocessing.text import Tokenizer\n",
    "from keras.preprocessing.sequence import pad_sequences\n",
    "import numpy as np\n",
    "\n",
    "# Step 1: Load the processed image-caption data\n",
    "with open(\"image_captions.json\", \"r\") as f:\n",
    "    data = json.load(f)\n",
    "\n",
    "# Step 2: Clean the captions\n",
    "def clean_caption(caption):\n",
    "    caption = caption.lower()\n",
    "    caption = caption.translate(str.maketrans('', '', string.punctuation))\n",
    "    caption = caption.strip()\n",
    "    return caption\n",
    "\n",
    "# Build cleaned caption dictionary\n",
    "caption_dict = {}\n",
    "for item in data:\n",
    "    captions = [clean_caption(c) for c in item['captions']]\n",
    "    caption_dict[item['file_name']] = captions\n",
    "\n",
    "# Step 3: Prepare all captions for Tokenizer\n",
    "all_captions = []\n",
    "for captions in caption_dict.values():\n",
    "    for caption in captions:\n",
    "        all_captions.append(f'startseq {caption} endseq')  # Add start/end tokens\n",
    "\n",
    "# Step 4: Tokenizer\n",
    "tokenizer = Tokenizer()\n",
    "tokenizer.fit_on_texts(all_captions)\n",
    "vocab_size = len(tokenizer.word_index) + 1\n",
    "\n",
    "# Step 5: Max length for padding\n",
    "max_length = max(len(c.split()) for c in all_captions)\n",
    "\n",
    "# Optional: Save tokenizer for later use\n",
    "with open(\"tokenizer.json\", \"w\") as f:\n",
    "    f.write(tokenizer.to_json())\n",
    "\n",
    "print(\"Vocabulary Size:\", vocab_size)\n",
    "print(\"Max Caption Length:\", max_length)\n"
   ]
  }
 ],
 "metadata": {
  "kernelspec": {
   "display_name": "Python 3",
   "language": "python",
   "name": "python3"
  },
  "language_info": {
   "codemirror_mode": {
    "name": "ipython",
    "version": 3
   },
   "file_extension": ".py",
   "mimetype": "text/x-python",
   "name": "python",
   "nbconvert_exporter": "python",
   "pygments_lexer": "ipython3",
   "version": "3.12.5"
  }
 },
 "nbformat": 4,
 "nbformat_minor": 5
}
