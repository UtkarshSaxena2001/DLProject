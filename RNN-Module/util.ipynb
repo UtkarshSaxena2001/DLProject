{
 "cells": [
  {
   "cell_type": "markdown",
   "id": "1e77e4f9",
   "metadata": {},
   "source": [
    "Importing libraries"
   ]
  },
  {
   "cell_type": "code",
   "execution_count": 38,
   "id": "38d77c6d",
   "metadata": {},
   "outputs": [],
   "source": [
    "import json as js\n",
    "from collections import defaultdict\n",
    "import string\n",
    "from keras import layers #type : ignore\n",
    "import nltk\n",
    "from tqdm import tqdm"
   ]
  },
  {
   "cell_type": "markdown",
   "id": "e321a601",
   "metadata": {},
   "source": [
    "loading paths"
   ]
  },
  {
   "cell_type": "code",
   "execution_count": 39,
   "id": "63654dcd",
   "metadata": {},
   "outputs": [],
   "source": [
    "with open('Config_RNN.json','r') as file:\n",
    "    paths = js.load(file)"
   ]
  },
  {
   "cell_type": "markdown",
   "id": "035f095c",
   "metadata": {},
   "source": [
    "Loading initial train data"
   ]
  },
  {
   "cell_type": "code",
   "execution_count": 40,
   "id": "6654e4e1",
   "metadata": {},
   "outputs": [],
   "source": [
    "with open(paths[\"Caption_Train\"],'r') as file:\n",
    "    train_data = js.load(file)"
   ]
  },
  {
   "cell_type": "markdown",
   "id": "51bfb3f6",
   "metadata": {},
   "source": [
    "Extracting imp data"
   ]
  },
  {
   "cell_type": "code",
   "execution_count": 41,
   "id": "eca0430d",
   "metadata": {},
   "outputs": [],
   "source": [
    "newdict = {}\n",
    "newdict[\"img_data\"] = train_data[\"images\"]\n",
    "newdict[\"annotations_data\"] = train_data[\"annotations\"]"
   ]
  },
  {
   "cell_type": "markdown",
   "id": "2057887c",
   "metadata": {},
   "source": [
    "Creating Corpus"
   ]
  },
  {
   "cell_type": "code",
   "execution_count": 46,
   "id": "3c8135aa",
   "metadata": {},
   "outputs": [],
   "source": [
    "img_data = newdict[\"img_data\"]\n",
    "annotations_data = newdict[\"annotations_data\"]\n",
    "captions_dict = defaultdict(list)\n",
    "\n",
    "for ann in annotations_data:\n",
    "    captions_dict[ann[\"image_id\"]].append(ann[\"caption\"])\n",
    "\n",
    "image_caption_data = {}\n",
    "for img in img_data:\n",
    "    file_id = img[\"file_name\"]\n",
    "    img_id = img[\"id\"]\n",
    "    image_caption_data[file_id] = captions_dict[img_id]\n",
    "\n",
    "with open(paths[\"Corpus\"], \"w\") as f:\n",
    "    js.dump(image_caption_data, f, indent=4)\n"
   ]
  },
  {
   "cell_type": "markdown",
   "id": "17fbb6ea",
   "metadata": {},
   "source": [
    "loading corpus"
   ]
  },
  {
   "cell_type": "code",
   "execution_count": 4,
   "id": "a1778a8b",
   "metadata": {},
   "outputs": [],
   "source": [
    "with open(paths[\"Corpus\"], \"r\") as f:\n",
    "    Corpus_data = js.load(f)"
   ]
  },
  {
   "cell_type": "markdown",
   "id": "78443197",
   "metadata": {},
   "source": [
    "Loading nltk dependency"
   ]
  },
  {
   "cell_type": "code",
   "execution_count": 10,
   "id": "d1d98bb6",
   "metadata": {},
   "outputs": [
    {
     "name": "stderr",
     "output_type": "stream",
     "text": [
      "[nltk_data] Downloading package punkt_tab to\n",
      "[nltk_data]     /home/utkarsh/nltk_data...\n",
      "[nltk_data]   Unzipping tokenizers/punkt_tab.zip.\n",
      "[nltk_data] Downloading package averaged_perceptron_tagger to\n",
      "[nltk_data]     /home/utkarsh/nltk_data...\n",
      "[nltk_data]   Package averaged_perceptron_tagger is already up-to-\n",
      "[nltk_data]       date!\n"
     ]
    },
    {
     "data": {
      "text/plain": [
       "True"
      ]
     },
     "execution_count": 10,
     "metadata": {},
     "output_type": "execute_result"
    }
   ],
   "source": [
    "nltk.download('punkt_tab')\n",
    "nltk.download('averaged_perceptron_tagger')"
   ]
  },
  {
   "cell_type": "markdown",
   "id": "9e21ec34",
   "metadata": {},
   "source": [
    "Text Tokenization"
   ]
  },
  {
   "cell_type": "code",
   "execution_count": 16,
   "id": "087c2368",
   "metadata": {},
   "outputs": [
    {
     "name": "stderr",
     "output_type": "stream",
     "text": [
      "100%|██████████| 118287/118287 [02:28<00:00, 794.38it/s]\n",
      "100%|██████████| 118287/118287 [00:02<00:00, 47934.03it/s]\n"
     ]
    }
   ],
   "source": [
    "pos_tagged_captions = {}\n",
    "noun_captions = {}\n",
    "\n",
    "for item in tqdm(Corpus_data):\n",
    "    tagged = []\n",
    "    for caption in item['captions']:\n",
    "        tokens = nltk.word_tokenize(caption)\n",
    "        pos_tags = nltk.pos_tag(tokens)\n",
    "        tagged.append(pos_tags)\n",
    "    pos_tagged_captions[item['file_name']] = tagged\n",
    "\n",
    "for image_id, tagged_captions in tqdm(pos_tagged_captions.items()):\n",
    "    noun_lists = []\n",
    "    for tagged in tagged_captions:\n",
    "        nouns = [word for word, tag in tagged if tag in ('NN', 'NNS', 'NNP', 'NNPS')]\n",
    "        noun_lists.append(nouns)\n",
    "    noun_captions[image_id] = noun_lists"
   ]
  },
  {
   "cell_type": "markdown",
   "id": "15efc476",
   "metadata": {},
   "source": [
    "storing noune tags"
   ]
  },
  {
   "cell_type": "code",
   "execution_count": 33,
   "id": "551befd8",
   "metadata": {},
   "outputs": [],
   "source": [
    "with open(paths['Nouned_Corpus'],'w') as f:\n",
    "    js.dump(noun_captions,f)"
   ]
  },
  {
   "cell_type": "code",
   "execution_count": 51,
   "id": "cdcf798a",
   "metadata": {},
   "outputs": [
    {
     "name": "stderr",
     "output_type": "stream",
     "text": [
      "100%|██████████| 118287/118287 [00:00<00:00, 379465.09it/s]\n"
     ]
    }
   ],
   "source": [
    "with open(paths[\"Corpus\"], 'r') as f1:\n",
    "    captions_data = js.load(f1)\n",
    "\n",
    "with open(paths['Nouned_Corpus'], 'r') as f2:\n",
    "    features_data = js.load(f2)\n",
    "\n",
    "dataset = []\n",
    "\n",
    "for image_id,nouns in tqdm(features_data.items()): \n",
    "    noun_caption = zip(nouns, captions_data[image_id])\n",
    "    for noun, caption in noun_caption:\n",
    "        dataset.append({\n",
    "            \"input\": \" \".join(noun),\n",
    "            \"output\": caption\n",
    "        })\n",
    "\n",
    "with open(paths[\"Preprocessed_data\"], \"w\") as out_file:\n",
    "    js.dump(dataset, out_file, indent=2)"
   ]
  },
  {
   "cell_type": "markdown",
   "id": "cd4c77a5",
   "metadata": {},
   "source": [
    "Text Vectorization"
   ]
  },
  {
   "cell_type": "code",
   "execution_count": 9,
   "id": "f01fb441",
   "metadata": {},
   "outputs": [
    {
     "name": "stdout",
     "output_type": "stream",
     "text": [
      "Vocabulary Size: 10000\n"
     ]
    }
   ],
   "source": [
    "with open(paths[\"Corpus\"],'r') as file:\n",
    "    data = js.load(file)\n",
    "\n",
    "def clean_caption(caption):\n",
    "    caption = caption.lower()\n",
    "    caption = caption.translate(str.maketrans('', '', string.punctuation))\n",
    "    caption = caption.strip()\n",
    "    return caption\n",
    "\n",
    "caption_dict = {}\n",
    "\n",
    "for item in data:\n",
    "    captions = [clean_caption(c) for c in item['captions']]\n",
    "    caption_dict[item['file_name']] = captions\n",
    "\n",
    "all_captions = []\n",
    "\n",
    "for captions in caption_dict.values():\n",
    "    for caption in captions:\n",
    "        all_captions.append(f'startseq {caption} endseq')\n",
    "\n",
    "vectorizer = layers.TextVectorization(\n",
    "    max_tokens=10000,\n",
    "    output_mode='int',\n",
    "    output_sequence_length=30 \n",
    ")\n",
    "\n",
    "vectorizer.adapt(all_captions)\n",
    "vocab = vectorizer.get_vocabulary()\n",
    "vocab_size = len(vocab)\n",
    "\n",
    "with open(paths[\"Preprocessed_Corpus\"], \"w\") as f:\n",
    "    js.dump(vocab, f)\n",
    "\n",
    "print(\"Vocabulary Size:\", vocab_size)"
   ]
  }
 ],
 "metadata": {
  "kernelspec": {
   "display_name": "tensorflow_testing",
   "language": "python",
   "name": "python3"
  },
  "language_info": {
   "codemirror_mode": {
    "name": "ipython",
    "version": 3
   },
   "file_extension": ".py",
   "mimetype": "text/x-python",
   "name": "python",
   "nbconvert_exporter": "python",
   "pygments_lexer": "ipython3",
   "version": "3.11.11"
  }
 },
 "nbformat": 4,
 "nbformat_minor": 5
}
