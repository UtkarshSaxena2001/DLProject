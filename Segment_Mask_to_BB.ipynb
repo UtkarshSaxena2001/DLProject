{
 "cells": [
  {
   "cell_type": "markdown",
   "metadata": {},
   "source": [
    "Importing Libraries"
   ]
  },
  {
   "cell_type": "code",
   "execution_count": 1,
   "metadata": {},
   "outputs": [],
   "source": [
    "import json\n",
    "import os\n",
    "from PIL import Image\n",
    "from tqdm import tqdm"
   ]
  },
  {
   "cell_type": "markdown",
   "metadata": {},
   "source": [
    "Training Data"
   ]
  },
  {
   "cell_type": "code",
   "execution_count": null,
   "metadata": {},
   "outputs": [],
   "source": [
    "with open(\"coco_dataset/annotations/instances_train2017.json\", \"r\") as f:\n",
    "    coco_data = json.load(f)\n",
    "\n",
    "image_folder = \"coco_dataset/train2017/\"\n",
    "annotation_save_path = \"coco_dataset/annotations/bb_train2017.json\"\n",
    "annotations = coco_data[\"annotations\"]\n",
    "images = {img[\"id\"]: img[\"file_name\"] for img in coco_data[\"images\"]}\n",
    "resized_bboxes = {}\n",
    "\n",
    "for ann in tqdm(annotations, desc=\"Processing Images\", unit=\"img\"):\n",
    "    if \"segmentation\" in ann and len(ann[\"segmentation\"]) > 0:\n",
    "        image_id = ann[\"image_id\"]\n",
    "        image_filename = os.path.join(image_folder, images[image_id])\n",
    "        bbox = ann[\"bbox\"]\n",
    "\n",
    "        if not os.path.exists(image_filename):\n",
    "            continue\n",
    "\n",
    "        image = Image.open(image_filename)\n",
    "        original_size = image.size\n",
    "        image = image.resize((224, 224), Image.Resampling.LANCZOS)\n",
    "        image.save(image_filename)\n",
    "        x, y, w, h = bbox\n",
    "        x_scale = 224 / original_size[0]\n",
    "        y_scale = 224 / original_size[1]\n",
    "        resized_bbox = [x * x_scale, y * y_scale, w * x_scale, h * y_scale]\n",
    "        resized_bboxes[images[image_id]] = resized_bbox\n",
    "\n",
    "with open(annotation_save_path, \"w\") as f:\n",
    "    json.dump(resized_bboxes, f, indent=4)"
   ]
  },
  {
   "cell_type": "markdown",
   "metadata": {},
   "source": [
    "Validation Data"
   ]
  },
  {
   "cell_type": "code",
   "execution_count": null,
   "metadata": {},
   "outputs": [
    {
     "name": "stderr",
     "output_type": "stream",
     "text": [
      "Processing Validation Set: 100%|██████████| 36781/36781 [01:39<00:00, 368.18img/s]\n"
     ]
    }
   ],
   "source": [
    "with open(\"coco_dataset/annotations/instances_val2017.json\", \"r\") as f:\n",
    "    coco_data = json.load(f)\n",
    "\n",
    "image_folder = \"coco_dataset/val2017/\"\n",
    "annotation_save_path = \"coco_dataset/annotations/bb_val2017.json\"\n",
    "annotations = coco_data[\"annotations\"]\n",
    "images = {img[\"id\"]: img[\"file_name\"] for img in coco_data[\"images\"]}\n",
    "resized_bboxes = {}\n",
    "\n",
    "for ann in tqdm(annotations, desc=\"Processing Validation Set\", unit=\"img\"):\n",
    "    if \"segmentation\" in ann and len(ann[\"segmentation\"]) > 0:\n",
    "        image_id = ann[\"image_id\"]\n",
    "        image_filename = os.path.join(image_folder, images[image_id])\n",
    "        bbox = ann[\"bbox\"]\n",
    "\n",
    "        if not os.path.exists(image_filename):\n",
    "            continue\n",
    "\n",
    "        image = Image.open(image_filename)\n",
    "        original_size = image.size\n",
    "        image = image.resize((224, 224), Image.Resampling.LANCZOS)\n",
    "        image.save(image_filename)\n",
    "        x, y, w, h = bbox\n",
    "        x_scale = 224 / original_size[0]\n",
    "        y_scale = 224 / original_size[1]\n",
    "        resized_bbox = [x * x_scale, y * y_scale, w * x_scale, h * y_scale]\n",
    "        resized_bboxes[images[image_id]] = resized_bbox\n",
    "\n",
    "with open(annotation_save_path, \"w\") as f:\n",
    "    json.dump(resized_bboxes, f, indent=4)"
   ]
  }
 ],
 "metadata": {
  "kernelspec": {
   "display_name": "tensorflow_testing",
   "language": "python",
   "name": "python3"
  },
  "language_info": {
   "codemirror_mode": {
    "name": "ipython",
    "version": 3
   },
   "file_extension": ".py",
   "mimetype": "text/x-python",
   "name": "python",
   "nbconvert_exporter": "python",
   "pygments_lexer": "ipython3",
   "version": "3.11.11"
  }
 },
 "nbformat": 4,
 "nbformat_minor": 2
}
